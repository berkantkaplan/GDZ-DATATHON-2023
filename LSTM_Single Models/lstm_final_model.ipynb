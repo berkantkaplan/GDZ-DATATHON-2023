{
 "cells": [
  {
   "cell_type": "code",
   "execution_count": 1,
   "metadata": {},
   "outputs": [],
   "source": [
    "import numpy as np\n",
    "import pandas as pd\n",
    "\n",
    "import matplotlib.pyplot as plt\n",
    "import seaborn as sns\n",
    "\n",
    "import warnings\n",
    "warnings.filterwarnings('ignore')"
   ]
  },
  {
   "attachments": {},
   "cell_type": "markdown",
   "metadata": {},
   "source": [
    "# Read the Data"
   ]
  },
  {
   "cell_type": "code",
   "execution_count": 2,
   "metadata": {},
   "outputs": [
    {
     "data": {
      "text/html": [
       "<div>\n",
       "<style scoped>\n",
       "    .dataframe tbody tr th:only-of-type {\n",
       "        vertical-align: middle;\n",
       "    }\n",
       "\n",
       "    .dataframe tbody tr th {\n",
       "        vertical-align: top;\n",
       "    }\n",
       "\n",
       "    .dataframe thead th {\n",
       "        text-align: right;\n",
       "    }\n",
       "</style>\n",
       "<table border=\"1\" class=\"dataframe\">\n",
       "  <thead>\n",
       "    <tr style=\"text-align: right;\">\n",
       "      <th></th>\n",
       "      <th>Tarih</th>\n",
       "      <th>Dağıtılan Enerji (MWh)</th>\n",
       "    </tr>\n",
       "  </thead>\n",
       "  <tbody>\n",
       "    <tr>\n",
       "      <th>0</th>\n",
       "      <td>2018-01-01 00:00:00</td>\n",
       "      <td>1593.944216</td>\n",
       "    </tr>\n",
       "    <tr>\n",
       "      <th>1</th>\n",
       "      <td>2018-01-01 01:00:00</td>\n",
       "      <td>1513.933887</td>\n",
       "    </tr>\n",
       "    <tr>\n",
       "      <th>2</th>\n",
       "      <td>2018-01-01 02:00:00</td>\n",
       "      <td>1402.612637</td>\n",
       "    </tr>\n",
       "    <tr>\n",
       "      <th>3</th>\n",
       "      <td>2018-01-01 03:00:00</td>\n",
       "      <td>1278.527266</td>\n",
       "    </tr>\n",
       "    <tr>\n",
       "      <th>4</th>\n",
       "      <td>2018-01-01 04:00:00</td>\n",
       "      <td>1220.697701</td>\n",
       "    </tr>\n",
       "  </tbody>\n",
       "</table>\n",
       "</div>"
      ],
      "text/plain": [
       "                Tarih  Dağıtılan Enerji (MWh)\n",
       "0 2018-01-01 00:00:00             1593.944216\n",
       "1 2018-01-01 01:00:00             1513.933887\n",
       "2 2018-01-01 02:00:00             1402.612637\n",
       "3 2018-01-01 03:00:00             1278.527266\n",
       "4 2018-01-01 04:00:00             1220.697701"
      ]
     },
     "execution_count": 2,
     "metadata": {},
     "output_type": "execute_result"
    }
   ],
   "source": [
    "data = pd.read_csv(\"train.csv\" , parse_dates=['Tarih'])\n",
    "# data.set_index('Tarih' , drop= True , inplace=True)\n",
    "data.head()"
   ]
  },
  {
   "cell_type": "code",
   "execution_count": 3,
   "metadata": {},
   "outputs": [
    {
     "data": {
      "text/html": [
       "<div>\n",
       "<style scoped>\n",
       "    .dataframe tbody tr th:only-of-type {\n",
       "        vertical-align: middle;\n",
       "    }\n",
       "\n",
       "    .dataframe tbody tr th {\n",
       "        vertical-align: top;\n",
       "    }\n",
       "\n",
       "    .dataframe thead th {\n",
       "        text-align: right;\n",
       "    }\n",
       "</style>\n",
       "<table border=\"1\" class=\"dataframe\">\n",
       "  <thead>\n",
       "    <tr style=\"text-align: right;\">\n",
       "      <th></th>\n",
       "      <th>Tarih</th>\n",
       "      <th>Dağıtılan Enerji (MWh)</th>\n",
       "    </tr>\n",
       "  </thead>\n",
       "  <tbody>\n",
       "    <tr>\n",
       "      <th>0</th>\n",
       "      <td>2022-08-01 00:00:00</td>\n",
       "      <td>NaN</td>\n",
       "    </tr>\n",
       "    <tr>\n",
       "      <th>1</th>\n",
       "      <td>2022-08-01 01:00:00</td>\n",
       "      <td>NaN</td>\n",
       "    </tr>\n",
       "    <tr>\n",
       "      <th>2</th>\n",
       "      <td>2022-08-01 02:00:00</td>\n",
       "      <td>NaN</td>\n",
       "    </tr>\n",
       "    <tr>\n",
       "      <th>3</th>\n",
       "      <td>2022-08-01 03:00:00</td>\n",
       "      <td>NaN</td>\n",
       "    </tr>\n",
       "    <tr>\n",
       "      <th>4</th>\n",
       "      <td>2022-08-01 04:00:00</td>\n",
       "      <td>NaN</td>\n",
       "    </tr>\n",
       "  </tbody>\n",
       "</table>\n",
       "</div>"
      ],
      "text/plain": [
       "                Tarih  Dağıtılan Enerji (MWh)\n",
       "0 2022-08-01 00:00:00                     NaN\n",
       "1 2022-08-01 01:00:00                     NaN\n",
       "2 2022-08-01 02:00:00                     NaN\n",
       "3 2022-08-01 03:00:00                     NaN\n",
       "4 2022-08-01 04:00:00                     NaN"
      ]
     },
     "execution_count": 3,
     "metadata": {},
     "output_type": "execute_result"
    }
   ],
   "source": [
    "future_data = pd.read_csv(\"future.csv\", parse_dates=['Tarih']).drop('Unnamed: 0' , axis = 1)\n",
    "future_data.head()"
   ]
  },
  {
   "cell_type": "code",
   "execution_count": 4,
   "metadata": {},
   "outputs": [
    {
     "data": {
      "text/html": [
       "<div>\n",
       "<style scoped>\n",
       "    .dataframe tbody tr th:only-of-type {\n",
       "        vertical-align: middle;\n",
       "    }\n",
       "\n",
       "    .dataframe tbody tr th {\n",
       "        vertical-align: top;\n",
       "    }\n",
       "\n",
       "    .dataframe thead th {\n",
       "        text-align: right;\n",
       "    }\n",
       "</style>\n",
       "<table border=\"1\" class=\"dataframe\">\n",
       "  <thead>\n",
       "    <tr style=\"text-align: right;\">\n",
       "      <th></th>\n",
       "      <th>Tarih</th>\n",
       "    </tr>\n",
       "  </thead>\n",
       "  <tbody>\n",
       "    <tr>\n",
       "      <th>0</th>\n",
       "      <td>2019-12-23</td>\n",
       "    </tr>\n",
       "    <tr>\n",
       "      <th>1</th>\n",
       "      <td>2019-06-12</td>\n",
       "    </tr>\n",
       "    <tr>\n",
       "      <th>2</th>\n",
       "      <td>2019-01-25</td>\n",
       "    </tr>\n",
       "    <tr>\n",
       "      <th>3</th>\n",
       "      <td>2019-09-25</td>\n",
       "    </tr>\n",
       "    <tr>\n",
       "      <th>4</th>\n",
       "      <td>2019-03-29</td>\n",
       "    </tr>\n",
       "  </tbody>\n",
       "</table>\n",
       "</div>"
      ],
      "text/plain": [
       "       Tarih\n",
       "0 2019-12-23\n",
       "1 2019-06-12\n",
       "2 2019-01-25\n",
       "3 2019-09-25\n",
       "4 2019-03-29"
      ]
     },
     "execution_count": 4,
     "metadata": {},
     "output_type": "execute_result"
    }
   ],
   "source": [
    "med = pd.read_csv('med.csv')\n",
    "med['Tarih'] = pd.to_datetime(med['Tarih'])\n",
    "med.head()"
   ]
  },
  {
   "attachments": {},
   "cell_type": "markdown",
   "metadata": {},
   "source": [
    "# Describe the Data"
   ]
  },
  {
   "cell_type": "code",
   "execution_count": 5,
   "metadata": {},
   "outputs": [
    {
     "data": {
      "text/plain": [
       "(40152, 2)"
      ]
     },
     "execution_count": 5,
     "metadata": {},
     "output_type": "execute_result"
    }
   ],
   "source": [
    "data.shape"
   ]
  },
  {
   "cell_type": "code",
   "execution_count": 6,
   "metadata": {},
   "outputs": [
    {
     "name": "stdout",
     "output_type": "stream",
     "text": [
      "<class 'pandas.core.frame.DataFrame'>\n",
      "RangeIndex: 40152 entries, 0 to 40151\n",
      "Data columns (total 2 columns):\n",
      " #   Column                  Non-Null Count  Dtype         \n",
      "---  ------                  --------------  -----         \n",
      " 0   Tarih                   40152 non-null  datetime64[ns]\n",
      " 1   Dağıtılan Enerji (MWh)  40152 non-null  float64       \n",
      "dtypes: datetime64[ns](1), float64(1)\n",
      "memory usage: 627.5 KB\n"
     ]
    }
   ],
   "source": [
    "data.info()"
   ]
  },
  {
   "cell_type": "code",
   "execution_count": 7,
   "metadata": {},
   "outputs": [],
   "source": [
    "# data['Tarih'] = pd.to_datetime(data['Tarih'])\n",
    "# future_data['Tarih'] = pd.to_datetime(future_data['Tarih'])\n",
    "# data.set_index('Tarih', inplace=True)\n",
    "# future_data.set_index('Tarih' , inplace=True)\n",
    "\n",
    "# data.info()"
   ]
  },
  {
   "cell_type": "code",
   "execution_count": 8,
   "metadata": {},
   "outputs": [
    {
     "data": {
      "text/html": [
       "<div>\n",
       "<style scoped>\n",
       "    .dataframe tbody tr th:only-of-type {\n",
       "        vertical-align: middle;\n",
       "    }\n",
       "\n",
       "    .dataframe tbody tr th {\n",
       "        vertical-align: top;\n",
       "    }\n",
       "\n",
       "    .dataframe thead th {\n",
       "        text-align: right;\n",
       "    }\n",
       "</style>\n",
       "<table border=\"1\" class=\"dataframe\">\n",
       "  <thead>\n",
       "    <tr style=\"text-align: right;\">\n",
       "      <th></th>\n",
       "      <th>count</th>\n",
       "      <th>mean</th>\n",
       "      <th>std</th>\n",
       "      <th>min</th>\n",
       "      <th>25%</th>\n",
       "      <th>50%</th>\n",
       "      <th>75%</th>\n",
       "      <th>max</th>\n",
       "    </tr>\n",
       "  </thead>\n",
       "  <tbody>\n",
       "    <tr>\n",
       "      <th>Dağıtılan Enerji (MWh)</th>\n",
       "      <td>40152.0</td>\n",
       "      <td>1836.805287</td>\n",
       "      <td>426.066085</td>\n",
       "      <td>870.18328</td>\n",
       "      <td>1499.165048</td>\n",
       "      <td>1813.409221</td>\n",
       "      <td>2129.407998</td>\n",
       "      <td>3633.105297</td>\n",
       "    </tr>\n",
       "  </tbody>\n",
       "</table>\n",
       "</div>"
      ],
      "text/plain": [
       "                          count         mean         std        min  \\\n",
       "Dağıtılan Enerji (MWh)  40152.0  1836.805287  426.066085  870.18328   \n",
       "\n",
       "                                25%          50%          75%          max  \n",
       "Dağıtılan Enerji (MWh)  1499.165048  1813.409221  2129.407998  3633.105297  "
      ]
     },
     "execution_count": 8,
     "metadata": {},
     "output_type": "execute_result"
    }
   ],
   "source": [
    "data.describe().T"
   ]
  },
  {
   "attachments": {},
   "cell_type": "markdown",
   "metadata": {},
   "source": [
    "# Plot the Data"
   ]
  },
  {
   "cell_type": "code",
   "execution_count": null,
   "metadata": {},
   "outputs": [],
   "source": []
  },
  {
   "cell_type": "code",
   "execution_count": null,
   "metadata": {},
   "outputs": [],
   "source": []
  },
  {
   "attachments": {},
   "cell_type": "markdown",
   "metadata": {},
   "source": [
    "## Feature Creators"
   ]
  },
  {
   "cell_type": "code",
   "execution_count": 9,
   "metadata": {},
   "outputs": [],
   "source": [
    "from eval_metrics import eval_metrics\n",
    "from feat_engs import create_datetimes, create_holiday_weekend, create_electricOutage_timeofDay, create_businessDay_cumulativeholidays, create_outage_rolling_percentages, create_hourly_sin_cos, create_seasons"
   ]
  },
  {
   "cell_type": "code",
   "execution_count": 10,
   "metadata": {},
   "outputs": [],
   "source": [
    "# all_df = [train_df , val_df , test_df , future_df , data]\n",
    "all_df = [data]"
   ]
  },
  {
   "cell_type": "code",
   "execution_count": 11,
   "metadata": {},
   "outputs": [],
   "source": [
    "for df in all_df:\n",
    "    create_datetimes(df)\n",
    "    create_holiday_weekend(df)\n",
    "    create_electricOutage_timeofDay(df,med)\n",
    "    create_businessDay_cumulativeholidays(df)\n",
    "    create_outage_rolling_percentages(df)\n",
    "    create_hourly_sin_cos(df)\n",
    "    create_seasons(df)\n",
    "    df.drop('date' , axis=1 , inplace= True)\n",
    "    df.set_index('Tarih' , inplace= True)"
   ]
  },
  {
   "cell_type": "code",
   "execution_count": 12,
   "metadata": {},
   "outputs": [
    {
     "data": {
      "text/html": [
       "<div>\n",
       "<style scoped>\n",
       "    .dataframe tbody tr th:only-of-type {\n",
       "        vertical-align: middle;\n",
       "    }\n",
       "\n",
       "    .dataframe tbody tr th {\n",
       "        vertical-align: top;\n",
       "    }\n",
       "\n",
       "    .dataframe thead th {\n",
       "        text-align: right;\n",
       "    }\n",
       "</style>\n",
       "<table border=\"1\" class=\"dataframe\">\n",
       "  <thead>\n",
       "    <tr style=\"text-align: right;\">\n",
       "      <th></th>\n",
       "      <th>Dağıtılan Enerji (MWh)</th>\n",
       "      <th>hour</th>\n",
       "      <th>dayofweek</th>\n",
       "      <th>quarter</th>\n",
       "      <th>month</th>\n",
       "      <th>year</th>\n",
       "      <th>dayofyear</th>\n",
       "      <th>dayofmonth</th>\n",
       "      <th>weekofyear</th>\n",
       "      <th>holiday</th>\n",
       "      <th>...</th>\n",
       "      <th>rolling_outages_24h</th>\n",
       "      <th>exp_avg_outages_24h</th>\n",
       "      <th>hour_sin</th>\n",
       "      <th>hour_cos</th>\n",
       "      <th>is_spring</th>\n",
       "      <th>is_summer</th>\n",
       "      <th>is_autumn</th>\n",
       "      <th>is_winter</th>\n",
       "      <th>is_weekend</th>\n",
       "      <th>is_weekday</th>\n",
       "    </tr>\n",
       "    <tr>\n",
       "      <th>Tarih</th>\n",
       "      <th></th>\n",
       "      <th></th>\n",
       "      <th></th>\n",
       "      <th></th>\n",
       "      <th></th>\n",
       "      <th></th>\n",
       "      <th></th>\n",
       "      <th></th>\n",
       "      <th></th>\n",
       "      <th></th>\n",
       "      <th></th>\n",
       "      <th></th>\n",
       "      <th></th>\n",
       "      <th></th>\n",
       "      <th></th>\n",
       "      <th></th>\n",
       "      <th></th>\n",
       "      <th></th>\n",
       "      <th></th>\n",
       "      <th></th>\n",
       "      <th></th>\n",
       "    </tr>\n",
       "  </thead>\n",
       "  <tbody>\n",
       "    <tr>\n",
       "      <th>2018-01-01 00:00:00</th>\n",
       "      <td>1593.944216</td>\n",
       "      <td>0</td>\n",
       "      <td>0</td>\n",
       "      <td>1</td>\n",
       "      <td>1</td>\n",
       "      <td>2018</td>\n",
       "      <td>1</td>\n",
       "      <td>1</td>\n",
       "      <td>1</td>\n",
       "      <td>1</td>\n",
       "      <td>...</td>\n",
       "      <td>0.0</td>\n",
       "      <td>0.0</td>\n",
       "      <td>0.000000</td>\n",
       "      <td>1.000000</td>\n",
       "      <td>0</td>\n",
       "      <td>0</td>\n",
       "      <td>0</td>\n",
       "      <td>0</td>\n",
       "      <td>0</td>\n",
       "      <td>-1</td>\n",
       "    </tr>\n",
       "    <tr>\n",
       "      <th>2018-01-01 01:00:00</th>\n",
       "      <td>1513.933887</td>\n",
       "      <td>1</td>\n",
       "      <td>0</td>\n",
       "      <td>1</td>\n",
       "      <td>1</td>\n",
       "      <td>2018</td>\n",
       "      <td>1</td>\n",
       "      <td>1</td>\n",
       "      <td>1</td>\n",
       "      <td>1</td>\n",
       "      <td>...</td>\n",
       "      <td>0.0</td>\n",
       "      <td>0.0</td>\n",
       "      <td>0.258819</td>\n",
       "      <td>0.965926</td>\n",
       "      <td>0</td>\n",
       "      <td>0</td>\n",
       "      <td>0</td>\n",
       "      <td>0</td>\n",
       "      <td>0</td>\n",
       "      <td>-1</td>\n",
       "    </tr>\n",
       "    <tr>\n",
       "      <th>2018-01-01 02:00:00</th>\n",
       "      <td>1402.612637</td>\n",
       "      <td>2</td>\n",
       "      <td>0</td>\n",
       "      <td>1</td>\n",
       "      <td>1</td>\n",
       "      <td>2018</td>\n",
       "      <td>1</td>\n",
       "      <td>1</td>\n",
       "      <td>1</td>\n",
       "      <td>1</td>\n",
       "      <td>...</td>\n",
       "      <td>0.0</td>\n",
       "      <td>0.0</td>\n",
       "      <td>0.500000</td>\n",
       "      <td>0.866025</td>\n",
       "      <td>0</td>\n",
       "      <td>0</td>\n",
       "      <td>0</td>\n",
       "      <td>0</td>\n",
       "      <td>0</td>\n",
       "      <td>-1</td>\n",
       "    </tr>\n",
       "    <tr>\n",
       "      <th>2018-01-01 03:00:00</th>\n",
       "      <td>1278.527266</td>\n",
       "      <td>3</td>\n",
       "      <td>0</td>\n",
       "      <td>1</td>\n",
       "      <td>1</td>\n",
       "      <td>2018</td>\n",
       "      <td>1</td>\n",
       "      <td>1</td>\n",
       "      <td>1</td>\n",
       "      <td>1</td>\n",
       "      <td>...</td>\n",
       "      <td>0.0</td>\n",
       "      <td>0.0</td>\n",
       "      <td>0.707107</td>\n",
       "      <td>0.707107</td>\n",
       "      <td>0</td>\n",
       "      <td>0</td>\n",
       "      <td>0</td>\n",
       "      <td>0</td>\n",
       "      <td>0</td>\n",
       "      <td>-1</td>\n",
       "    </tr>\n",
       "    <tr>\n",
       "      <th>2018-01-01 04:00:00</th>\n",
       "      <td>1220.697701</td>\n",
       "      <td>4</td>\n",
       "      <td>0</td>\n",
       "      <td>1</td>\n",
       "      <td>1</td>\n",
       "      <td>2018</td>\n",
       "      <td>1</td>\n",
       "      <td>1</td>\n",
       "      <td>1</td>\n",
       "      <td>1</td>\n",
       "      <td>...</td>\n",
       "      <td>0.0</td>\n",
       "      <td>0.0</td>\n",
       "      <td>0.866025</td>\n",
       "      <td>0.500000</td>\n",
       "      <td>0</td>\n",
       "      <td>0</td>\n",
       "      <td>0</td>\n",
       "      <td>0</td>\n",
       "      <td>0</td>\n",
       "      <td>-1</td>\n",
       "    </tr>\n",
       "  </tbody>\n",
       "</table>\n",
       "<p>5 rows × 26 columns</p>\n",
       "</div>"
      ],
      "text/plain": [
       "                     Dağıtılan Enerji (MWh)  hour  dayofweek  quarter  month  \\\n",
       "Tarih                                                                          \n",
       "2018-01-01 00:00:00             1593.944216     0          0        1      1   \n",
       "2018-01-01 01:00:00             1513.933887     1          0        1      1   \n",
       "2018-01-01 02:00:00             1402.612637     2          0        1      1   \n",
       "2018-01-01 03:00:00             1278.527266     3          0        1      1   \n",
       "2018-01-01 04:00:00             1220.697701     4          0        1      1   \n",
       "\n",
       "                     year  dayofyear  dayofmonth  weekofyear  holiday  ...  \\\n",
       "Tarih                                                                  ...   \n",
       "2018-01-01 00:00:00  2018          1           1           1        1  ...   \n",
       "2018-01-01 01:00:00  2018          1           1           1        1  ...   \n",
       "2018-01-01 02:00:00  2018          1           1           1        1  ...   \n",
       "2018-01-01 03:00:00  2018          1           1           1        1  ...   \n",
       "2018-01-01 04:00:00  2018          1           1           1        1  ...   \n",
       "\n",
       "                     rolling_outages_24h  exp_avg_outages_24h  hour_sin  \\\n",
       "Tarih                                                                     \n",
       "2018-01-01 00:00:00                  0.0                  0.0  0.000000   \n",
       "2018-01-01 01:00:00                  0.0                  0.0  0.258819   \n",
       "2018-01-01 02:00:00                  0.0                  0.0  0.500000   \n",
       "2018-01-01 03:00:00                  0.0                  0.0  0.707107   \n",
       "2018-01-01 04:00:00                  0.0                  0.0  0.866025   \n",
       "\n",
       "                     hour_cos  is_spring  is_summer  is_autumn  is_winter  \\\n",
       "Tarih                                                                       \n",
       "2018-01-01 00:00:00  1.000000          0          0          0          0   \n",
       "2018-01-01 01:00:00  0.965926          0          0          0          0   \n",
       "2018-01-01 02:00:00  0.866025          0          0          0          0   \n",
       "2018-01-01 03:00:00  0.707107          0          0          0          0   \n",
       "2018-01-01 04:00:00  0.500000          0          0          0          0   \n",
       "\n",
       "                     is_weekend  is_weekday  \n",
       "Tarih                                        \n",
       "2018-01-01 00:00:00           0          -1  \n",
       "2018-01-01 01:00:00           0          -1  \n",
       "2018-01-01 02:00:00           0          -1  \n",
       "2018-01-01 03:00:00           0          -1  \n",
       "2018-01-01 04:00:00           0          -1  \n",
       "\n",
       "[5 rows x 26 columns]"
      ]
     },
     "execution_count": 12,
     "metadata": {},
     "output_type": "execute_result"
    }
   ],
   "source": [
    "data.head()"
   ]
  },
  {
   "attachments": {},
   "cell_type": "markdown",
   "metadata": {},
   "source": [
    "## Good Function"
   ]
  },
  {
   "cell_type": "code",
   "execution_count": 13,
   "metadata": {},
   "outputs": [],
   "source": [
    "# def series_to_supervised(data, n_in=1, n_out=1, dropnan=False):\n",
    "# \tn_vars = 1 if type(data) is list else data.shape[1]\n",
    "# \tdff = pd.DataFrame(data)\n",
    "# \tcols, names = list(), list()\n",
    "# \t# input sequence (t-n, ... t-1)\n",
    "# \tfor i in range(n_in, 0, -1):\n",
    "# \t\tcols.append(dff.shift(i))\n",
    "# \t\tnames += [('var%d(t-%d)' % (j+1, i)) for j in range(n_vars)]\n",
    "# \t# forecast sequence (t, t+1, ... t+n)\n",
    "# \tfor i in range(0, n_out):\n",
    "# \t\tcols.append(dff.shift(-i))\n",
    "# \t\tif i == 0:\n",
    "# \t\t\tnames += [('var%d(t)' % (j+1)) for j in range(n_vars)]\n",
    "# \t\telse:\n",
    "# \t\t\tnames += [('var%d(t+%d)' % (j+1, i)) for j in range(n_vars)]\n",
    "# \t# put it all together\n",
    "# \tagg = pd.concat(cols, axis=1)\n",
    "# \tagg.columns = names\n",
    "# \t# drop rows with NaN values\n",
    "# \tif dropnan:\n",
    "# \t\tagg.dropna(inplace=True)\n",
    "# \treturn agg"
   ]
  },
  {
   "cell_type": "code",
   "execution_count": 14,
   "metadata": {},
   "outputs": [
    {
     "data": {
      "text/plain": [
       "(40152, 26)"
      ]
     },
     "execution_count": 14,
     "metadata": {},
     "output_type": "execute_result"
    }
   ],
   "source": [
    "data.values.shape"
   ]
  },
  {
   "attachments": {},
   "cell_type": "markdown",
   "metadata": {},
   "source": [
    "## Scaling"
   ]
  },
  {
   "cell_type": "code",
   "execution_count": 15,
   "metadata": {},
   "outputs": [],
   "source": [
    "from sklearn.preprocessing import MinMaxScaler\n",
    "## full data without resampling\n",
    "values = data.values\n",
    "\n",
    "# integer encode direction\n",
    "# ensure all data is float\n",
    "# values = values.astype('float32')\n",
    "\n",
    "\n",
    "# normalize features\n",
    "scaler = MinMaxScaler(feature_range=(0, 1))\n",
    "scaled = scaler.fit_transform(values.reshape(-1,1))"
   ]
  },
  {
   "cell_type": "code",
   "execution_count": 16,
   "metadata": {},
   "outputs": [
    {
     "data": {
      "text/plain": [
       "array([[4.38882224e-01],\n",
       "       [2.75170893e-04],\n",
       "       [2.75170893e-04],\n",
       "       ...,\n",
       "       [2.75170893e-04],\n",
       "       [2.75170893e-04],\n",
       "       [0.00000000e+00]])"
      ]
     },
     "execution_count": 16,
     "metadata": {},
     "output_type": "execute_result"
    }
   ],
   "source": [
    "scaled"
   ]
  },
  {
   "cell_type": "code",
   "execution_count": 17,
   "metadata": {},
   "outputs": [],
   "source": [
    "# # frame as supervised learning\n",
    "# reframed = series_to_supervised(scaled, 1, 1)"
   ]
  },
  {
   "cell_type": "code",
   "execution_count": 18,
   "metadata": {},
   "outputs": [],
   "source": [
    "# reframed"
   ]
  },
  {
   "cell_type": "code",
   "execution_count": 19,
   "metadata": {},
   "outputs": [],
   "source": [
    "# reframed = reframed.iloc[:,0:2]"
   ]
  },
  {
   "cell_type": "code",
   "execution_count": 20,
   "metadata": {},
   "outputs": [],
   "source": [
    "# # drop columns we don't want to predict\n",
    "# reframed.drop(reframed.columns[[8,9,10,11,12,13]], axis=1, inplace=True)\n",
    "# print(reframed.head())"
   ]
  },
  {
   "cell_type": "code",
   "execution_count": 21,
   "metadata": {},
   "outputs": [],
   "source": [
    "# from sklearn.preprocessing import MinMaxScaler\n",
    "\n",
    "# scaler = MinMaxScaler(feature_range=(0,1))\n",
    "# data_scaled = scaler.fit_transform(data)\n",
    "# train_scaled = scaler.transform(X_train_temp)\n",
    "# test_scaled = scaler.transform(X_test_temp)\n",
    "\n",
    "# val_scaled = scaler.transform(X_val_temp)"
   ]
  },
  {
   "cell_type": "code",
   "execution_count": 22,
   "metadata": {},
   "outputs": [],
   "source": [
    "# from sklearn.preprocessing import MinMaxScaler\n",
    "\n",
    "# scaler = MinMaxScaler(feature_range=(0,1))\n",
    "# train_scaled = scaler.fit_transform(X_train_temp)\n",
    "# test_scaled = scaler.transform(X_test_temp)\n",
    "\n",
    "# val_scaled = scaler.transform(X_val_temp)"
   ]
  },
  {
   "attachments": {},
   "cell_type": "markdown",
   "metadata": {},
   "source": [
    "## Train | Test Split"
   ]
  },
  {
   "cell_type": "code",
   "execution_count": 23,
   "metadata": {},
   "outputs": [],
   "source": [
    "# split into train and test sets\n",
    "# values = reframed.values\n",
    "\n",
    "#values = values.astype('float32')\n",
    "\n",
    "n_train_time = 1460*24\n",
    "train = values[:n_train_time, :]\n",
    "test = values[n_train_time:, :]"
   ]
  },
  {
   "cell_type": "code",
   "execution_count": 24,
   "metadata": {},
   "outputs": [
    {
     "data": {
      "text/plain": [
       "array([1593.94421564, 1513.93388671, 1402.61263652, ..., 2115.96297773,\n",
       "       2022.20285729, 1891.77759344])"
      ]
     },
     "execution_count": 24,
     "metadata": {},
     "output_type": "execute_result"
    }
   ],
   "source": [
    "train[:, 0]"
   ]
  },
  {
   "cell_type": "code",
   "execution_count": 25,
   "metadata": {},
   "outputs": [],
   "source": [
    "# split into input and outputs\n",
    "X_train, y_train = train[:, :], train[:, 0]\n",
    "X_test, y_test = test[:, :], test[:, 0]"
   ]
  },
  {
   "cell_type": "code",
   "execution_count": 26,
   "metadata": {},
   "outputs": [
    {
     "data": {
      "text/plain": [
       "(35040, 26)"
      ]
     },
     "execution_count": 26,
     "metadata": {},
     "output_type": "execute_result"
    }
   ],
   "source": [
    "X_train.shape"
   ]
  },
  {
   "cell_type": "code",
   "execution_count": 27,
   "metadata": {},
   "outputs": [],
   "source": [
    "# split into input and outputs\n",
    "# X_train, y_train = train[:, :-1], train[:, -1]\n",
    "# X_test, y_test = test[:, :-1], test[:, -1]"
   ]
  },
  {
   "cell_type": "code",
   "execution_count": 28,
   "metadata": {},
   "outputs": [
    {
     "name": "stdout",
     "output_type": "stream",
     "text": [
      "(35040, 1, 26) (35040,) (5112, 1, 26) (5112,)\n"
     ]
    }
   ],
   "source": [
    "# reshape input to be 3D [samples, timesteps, features]\n",
    "X_train = X_train.reshape((X_train.shape[0], 1, X_train.shape[1]))\n",
    "X_test = X_test.reshape((X_test.shape[0], 1, X_test.shape[1]))\n",
    "print(X_train.shape, y_train.shape, X_test.shape, y_test.shape) \n",
    "# We reshaped the input into the 3D format as expected by LSTMs, namely [samples, timesteps, features]."
   ]
  },
  {
   "cell_type": "code",
   "execution_count": 29,
   "metadata": {},
   "outputs": [],
   "source": [
    "# X_test_temp = data.loc[data.index > '2022-07-23 23:00:00'].copy()\n",
    "# X_train_temp = data.loc[data.index <= '2022-07-23 23:00:00'].copy()\n",
    "\n",
    "# X_val_temp = X_train_temp[-96:]\n",
    "# X_train_temp = X_train_temp[:-96]"
   ]
  },
  {
   "cell_type": "code",
   "execution_count": 30,
   "metadata": {},
   "outputs": [],
   "source": [
    "# print(f\"X_data Shape : {X_data.shape}\")\n",
    "# print(f\"X_train Shape : {X_train.shape}\")\n",
    "# print(f\"X_test Shape : {X_test.shape}\")\n",
    "# print(f\"X_val Shape : {X_val.shape}\")\n",
    "# print(f\"X Shape : {X.shape}\")"
   ]
  },
  {
   "attachments": {},
   "cell_type": "markdown",
   "metadata": {},
   "source": [
    "# Reshape"
   ]
  },
  {
   "attachments": {},
   "cell_type": "markdown",
   "metadata": {},
   "source": [
    "Buraya dikkat !"
   ]
  },
  {
   "cell_type": "code",
   "execution_count": 31,
   "metadata": {},
   "outputs": [],
   "source": [
    "# def packager(data_scaled , train_scaled, val_scaled, test_scaled, window_size=24):\n",
    "#     X_data , y_data , X_train, y_train, X_val, y_val, X_test, y_test = [], [], [], [], [], [], [], []\n",
    "    \n",
    "    \n",
    "#     for i in range(window_size, len(data_scaled)):\n",
    "#         X_data.append(data_scaled[i-window_size:i, 0])\n",
    "#         y_data.append(data_scaled[i, 0])\n",
    "\n",
    "#     for i in range(window_size, len(train_scaled)):\n",
    "#         X_train.append(train_scaled[i-window_size:i, 0])\n",
    "#         y_train.append(train_scaled[i, 0])\n",
    "\n",
    "#     for i in range(window_size, len(val_scaled)):\n",
    "#         X_val.append(val_scaled[i-window_size:i, 0])\n",
    "#         y_val.append(val_scaled[i, 0])\n",
    "\n",
    "#     for i in range(window_size, len(test_scaled)):\n",
    "#         X_test.append(test_scaled[i-window_size:i, 0])\n",
    "#         y_test.append(test_scaled[i, 0])\n",
    "\n",
    "#     X_data, y_data = np.array(X_data), np.array(y_data)\n",
    "#     X_train, y_train = np.array(X_train), np.array(y_train)\n",
    "#     X_val, y_val = np.array(X_val), np.array(y_val)\n",
    "#     X_test, y_test = np.array(X_test), np.array(y_test)\n",
    "\n",
    "#     X_data = np.reshape(X_data, (X_data.shape[0], X_train.shape[1], 1))\n",
    "#     X_train = np.reshape(X_train, (X_train.shape[0], X_train.shape[1], 1))\n",
    "#     X_val = np.reshape(X_val, (X_val.shape[0], X_val.shape[1], 1))\n",
    "#     X_test = np.reshape(X_test, (X_test.shape[0], X_test.shape[1], 1))\n",
    "\n",
    "#     X = np.concatenate((X_train, X_val, X_test), axis=0)\n",
    "#     y = np.concatenate((y_train, y_val, y_test), axis=0)\n",
    "\n",
    "#     return X_data , y_data , X_train, y_train, X_val, y_val, X_test, y_test, X, y"
   ]
  },
  {
   "cell_type": "code",
   "execution_count": 32,
   "metadata": {},
   "outputs": [],
   "source": [
    "# X_data , y_data , X_train, y_train, X_val, y_val, X_test, y_test, X, y = packager(data_scaled , train_scaled, val_scaled, test_scaled)"
   ]
  },
  {
   "attachments": {},
   "cell_type": "markdown",
   "metadata": {},
   "source": [
    "# FINAL Model"
   ]
  },
  {
   "cell_type": "code",
   "execution_count": 33,
   "metadata": {},
   "outputs": [],
   "source": [
    "import tensorflow as tf\n",
    "\n",
    "# Seed ayarlamak\n",
    "seed_value = 53\n",
    "tf.keras.utils.set_random_seed(seed_value)"
   ]
  },
  {
   "attachments": {},
   "cell_type": "markdown",
   "metadata": {},
   "source": [
    "# Modelling Time"
   ]
  },
  {
   "attachments": {},
   "cell_type": "markdown",
   "metadata": {},
   "source": [
    "## Manual Create the model"
   ]
  },
  {
   "cell_type": "code",
   "execution_count": 34,
   "metadata": {},
   "outputs": [
    {
     "data": {
      "text/plain": [
       "(35040, 1, 26)"
      ]
     },
     "execution_count": 34,
     "metadata": {},
     "output_type": "execute_result"
    }
   ],
   "source": [
    "X_train.shape"
   ]
  },
  {
   "cell_type": "code",
   "execution_count": 35,
   "metadata": {},
   "outputs": [
    {
     "data": {
      "text/plain": [
       "(35040,)"
      ]
     },
     "execution_count": 35,
     "metadata": {},
     "output_type": "execute_result"
    }
   ],
   "source": [
    "y_train.shape"
   ]
  },
  {
   "cell_type": "code",
   "execution_count": 36,
   "metadata": {},
   "outputs": [
    {
     "name": "stdout",
     "output_type": "stream",
     "text": [
      "Epoch 1/50\n",
      "2190/2190 [==============================] - ETA: 0s - loss: 3362619.7500\n",
      "Epoch 1: saving model to C:\\Users\\Emincan\\Desktop\\Gdz\\gdz-competition\\Checkpoints\\Single_Target\\\\100-50(batch8)\\model-001-3358624.00000.h5\n",
      "2190/2190 [==============================] - 9s 3ms/step - loss: 3362619.7500 - val_loss: 3358624.0000 - lr: 0.0010\n",
      "Epoch 2/50\n",
      "2174/2190 [============================>.] - ETA: 0s - loss: 3062281.5000\n",
      "Epoch 2: saving model to C:\\Users\\Emincan\\Desktop\\Gdz\\gdz-competition\\Checkpoints\\Single_Target\\\\100-50(batch8)\\model-002-3072019.25000.h5\n",
      "2190/2190 [==============================] - 6s 3ms/step - loss: 3069392.7500 - val_loss: 3072019.2500 - lr: 0.0010\n",
      "Epoch 3/50\n",
      "2185/2190 [============================>.] - ETA: 0s - loss: 2797434.5000\n",
      "Epoch 3: saving model to C:\\Users\\Emincan\\Desktop\\Gdz\\gdz-competition\\Checkpoints\\Single_Target\\\\100-50(batch8)\\model-003-2801083.50000.h5\n",
      "2190/2190 [==============================] - 6s 3ms/step - loss: 2798227.0000 - val_loss: 2801083.5000 - lr: 0.0010\n",
      "Epoch 4/50\n",
      "2181/2190 [============================>.] - ETA: 0s - loss: 2539730.0000\n",
      "Epoch 4: saving model to C:\\Users\\Emincan\\Desktop\\Gdz\\gdz-competition\\Checkpoints\\Single_Target\\\\100-50(batch8)\\model-004-2544383.75000.h5\n",
      "2190/2190 [==============================] - 6s 3ms/step - loss: 2541107.2500 - val_loss: 2544383.7500 - lr: 0.0010\n",
      "Epoch 5/50\n",
      "2189/2190 [============================>.] - ETA: 0s - loss: 2298204.0000\n",
      "Epoch 5: saving model to C:\\Users\\Emincan\\Desktop\\Gdz\\gdz-competition\\Checkpoints\\Single_Target\\\\100-50(batch8)\\model-005-2301735.75000.h5\n",
      "2190/2190 [==============================] - 6s 3ms/step - loss: 2298615.2500 - val_loss: 2301735.7500 - lr: 0.0010\n",
      "Epoch 6/50\n",
      "2173/2190 [============================>.] - ETA: 0s - loss: 2063687.2500\n",
      "Epoch 6: saving model to C:\\Users\\Emincan\\Desktop\\Gdz\\gdz-competition\\Checkpoints\\Single_Target\\\\100-50(batch8)\\model-006-2073084.62500.h5\n",
      "2190/2190 [==============================] - 6s 3ms/step - loss: 2069662.0000 - val_loss: 2073084.6250 - lr: 0.0010\n",
      "Epoch 7/50\n",
      "2187/2190 [============================>.] - ETA: 0s - loss: 1855188.1250\n",
      "Epoch 7: saving model to C:\\Users\\Emincan\\Desktop\\Gdz\\gdz-competition\\Checkpoints\\Single_Target\\\\100-50(batch8)\\model-007-1858512.87500.h5\n",
      "2190/2190 [==============================] - 6s 3ms/step - loss: 1855500.0000 - val_loss: 1858512.8750 - lr: 0.0010\n",
      "Epoch 8/50\n",
      "2176/2190 [============================>.] - ETA: 0s - loss: 1650546.3750\n",
      "Epoch 8: saving model to C:\\Users\\Emincan\\Desktop\\Gdz\\gdz-competition\\Checkpoints\\Single_Target\\\\100-50(batch8)\\model-008-1657864.00000.h5\n",
      "2190/2190 [==============================] - 6s 3ms/step - loss: 1654675.1250 - val_loss: 1657864.0000 - lr: 0.0010\n",
      "Epoch 9/50\n",
      "2180/2190 [============================>.] - ETA: 0s - loss: 1466620.3750\n",
      "Epoch 9: saving model to C:\\Users\\Emincan\\Desktop\\Gdz\\gdz-competition\\Checkpoints\\Single_Target\\\\100-50(batch8)\\model-009-1471103.87500.h5\n",
      "2190/2190 [==============================] - 6s 3ms/step - loss: 1468502.5000 - val_loss: 1471103.8750 - lr: 0.0010\n",
      "Epoch 10/50\n",
      "2178/2190 [============================>.] - ETA: 0s - loss: 1292410.5000\n",
      "Epoch 10: saving model to C:\\Users\\Emincan\\Desktop\\Gdz\\gdz-competition\\Checkpoints\\Single_Target\\\\100-50(batch8)\\model-010-1298157.37500.h5\n",
      "2190/2190 [==============================] - 6s 3ms/step - loss: 1295006.5000 - val_loss: 1298157.3750 - lr: 0.0010\n",
      "Epoch 11/50\n",
      "2184/2190 [============================>.] - ETA: 0s - loss: 1136791.1250\n",
      "Epoch 11: saving model to C:\\Users\\Emincan\\Desktop\\Gdz\\gdz-competition\\Checkpoints\\Single_Target\\\\100-50(batch8)\\model-011-1139046.12500.h5\n",
      "2190/2190 [==============================] - 6s 3ms/step - loss: 1137243.6250 - val_loss: 1139046.1250 - lr: 0.0010\n",
      "Epoch 12/50\n",
      "2174/2190 [============================>.] - ETA: 0s - loss: 987586.2500\n",
      "Epoch 12: saving model to C:\\Users\\Emincan\\Desktop\\Gdz\\gdz-competition\\Checkpoints\\Single_Target\\\\100-50(batch8)\\model-012-993670.31250.h5\n",
      "2190/2190 [==============================] - 6s 3ms/step - loss: 991705.8750 - val_loss: 993670.3125 - lr: 0.0010\n",
      "Epoch 13/50\n",
      "2174/2190 [============================>.] - ETA: 0s - loss: 856308.1250\n",
      "Epoch 13: saving model to C:\\Users\\Emincan\\Desktop\\Gdz\\gdz-competition\\Checkpoints\\Single_Target\\\\100-50(batch8)\\model-013-861814.31250.h5\n",
      "2190/2190 [==============================] - 6s 3ms/step - loss: 860121.0000 - val_loss: 861814.3125 - lr: 0.0010\n",
      "Epoch 14/50\n",
      "2183/2190 [============================>.] - ETA: 0s - loss: 741297.2500\n",
      "Epoch 14: saving model to C:\\Users\\Emincan\\Desktop\\Gdz\\gdz-competition\\Checkpoints\\Single_Target\\\\100-50(batch8)\\model-014-743535.00000.h5\n",
      "2190/2190 [==============================] - 6s 3ms/step - loss: 741665.2500 - val_loss: 743535.0000 - lr: 0.0010\n",
      "Epoch 15/50\n",
      "2190/2190 [==============================] - ETA: 0s - loss: 637912.3750\n",
      "Epoch 15: saving model to C:\\Users\\Emincan\\Desktop\\Gdz\\gdz-competition\\Checkpoints\\Single_Target\\\\100-50(batch8)\\model-015-638509.81250.h5\n",
      "2190/2190 [==============================] - 6s 3ms/step - loss: 637912.3750 - val_loss: 638509.8125 - lr: 0.0010\n",
      "Epoch 16/50\n",
      "2175/2190 [============================>.] - ETA: 0s - loss: 544266.2500\n",
      "Epoch 16: saving model to C:\\Users\\Emincan\\Desktop\\Gdz\\gdz-competition\\Checkpoints\\Single_Target\\\\100-50(batch8)\\model-016-546646.56250.h5\n",
      "2190/2190 [==============================] - 6s 3ms/step - loss: 546696.5625 - val_loss: 546646.5625 - lr: 0.0010\n",
      "Epoch 17/50\n",
      "2187/2190 [============================>.] - ETA: 0s - loss: 467313.8438\n",
      "Epoch 17: saving model to C:\\Users\\Emincan\\Desktop\\Gdz\\gdz-competition\\Checkpoints\\Single_Target\\\\100-50(batch8)\\model-017-467553.09375.h5\n",
      "2190/2190 [==============================] - 6s 3ms/step - loss: 467418.1875 - val_loss: 467553.0938 - lr: 0.0010\n",
      "Epoch 18/50\n",
      "2181/2190 [============================>.] - ETA: 0s - loss: 401392.6875\n",
      "Epoch 18: saving model to C:\\Users\\Emincan\\Desktop\\Gdz\\gdz-competition\\Checkpoints\\Single_Target\\\\100-50(batch8)\\model-018-400796.12500.h5\n",
      "2190/2190 [==============================] - 6s 3ms/step - loss: 401718.5938 - val_loss: 400796.1250 - lr: 0.0010\n",
      "Epoch 19/50\n",
      "2176/2190 [============================>.] - ETA: 0s - loss: 344200.3438\n",
      "Epoch 19: saving model to C:\\Users\\Emincan\\Desktop\\Gdz\\gdz-competition\\Checkpoints\\Single_Target\\\\100-50(batch8)\\model-019-345943.31250.h5\n",
      "2190/2190 [==============================] - 6s 3ms/step - loss: 345816.4375 - val_loss: 345943.3125 - lr: 0.0010\n",
      "Epoch 20/50\n",
      "2175/2190 [============================>.] - ETA: 0s - loss: 300774.2188\n",
      "Epoch 20: saving model to C:\\Users\\Emincan\\Desktop\\Gdz\\gdz-competition\\Checkpoints\\Single_Target\\\\100-50(batch8)\\model-020-302078.84375.h5\n",
      "2190/2190 [==============================] - 6s 3ms/step - loss: 302443.8750 - val_loss: 302078.8438 - lr: 0.0010\n",
      "Epoch 21/50\n",
      "2188/2190 [============================>.] - ETA: 0s - loss: 270656.7812\n",
      "Epoch 21: saving model to C:\\Users\\Emincan\\Desktop\\Gdz\\gdz-competition\\Checkpoints\\Single_Target\\\\100-50(batch8)\\model-021-268073.56250.h5\n",
      "2190/2190 [==============================] - 6s 3ms/step - loss: 270671.1562 - val_loss: 268073.5625 - lr: 0.0010\n",
      "Epoch 22/50\n",
      "2189/2190 [============================>.] - ETA: 0s - loss: 244653.0625\n",
      "Epoch 22: saving model to C:\\Users\\Emincan\\Desktop\\Gdz\\gdz-competition\\Checkpoints\\Single_Target\\\\100-50(batch8)\\model-022-242719.17188.h5\n",
      "2190/2190 [==============================] - 6s 3ms/step - loss: 244704.3750 - val_loss: 242719.1719 - lr: 0.0010\n",
      "Epoch 23/50\n",
      "2190/2190 [==============================] - ETA: 0s - loss: 227822.7188\n",
      "Epoch 23: saving model to C:\\Users\\Emincan\\Desktop\\Gdz\\gdz-competition\\Checkpoints\\Single_Target\\\\100-50(batch8)\\model-023-224431.37500.h5\n",
      "2190/2190 [==============================] - 6s 3ms/step - loss: 227822.7188 - val_loss: 224431.3750 - lr: 0.0010\n",
      "Epoch 24/50\n",
      "2180/2190 [============================>.] - ETA: 0s - loss: 217234.4062\n",
      "Epoch 24: saving model to C:\\Users\\Emincan\\Desktop\\Gdz\\gdz-competition\\Checkpoints\\Single_Target\\\\100-50(batch8)\\model-024-211656.01562.h5\n",
      "2190/2190 [==============================] - 6s 3ms/step - loss: 217592.4844 - val_loss: 211656.0156 - lr: 0.0010\n",
      "Epoch 25/50\n",
      "2184/2190 [============================>.] - ETA: 0s - loss: 209025.9219\n",
      "Epoch 25: saving model to C:\\Users\\Emincan\\Desktop\\Gdz\\gdz-competition\\Checkpoints\\Single_Target\\\\100-50(batch8)\\model-025-202961.43750.h5\n",
      "2190/2190 [==============================] - 6s 3ms/step - loss: 209072.0781 - val_loss: 202961.4375 - lr: 0.0010\n",
      "Epoch 26/50\n",
      "2176/2190 [============================>.] - ETA: 0s - loss: 203135.2031\n",
      "Epoch 26: saving model to C:\\Users\\Emincan\\Desktop\\Gdz\\gdz-competition\\Checkpoints\\Single_Target\\\\100-50(batch8)\\model-026-197160.89062.h5\n",
      "2190/2190 [==============================] - 6s 3ms/step - loss: 203957.0156 - val_loss: 197160.8906 - lr: 0.0010\n",
      "Epoch 27/50\n",
      "2184/2190 [============================>.] - ETA: 0s - loss: 202152.6094\n",
      "Epoch 27: saving model to C:\\Users\\Emincan\\Desktop\\Gdz\\gdz-competition\\Checkpoints\\Single_Target\\\\100-50(batch8)\\model-027-193216.37500.h5\n",
      "2190/2190 [==============================] - 6s 3ms/step - loss: 202136.1250 - val_loss: 193216.3750 - lr: 0.0010\n",
      "Epoch 28/50\n",
      "2181/2190 [============================>.] - ETA: 0s - loss: 199733.2500\n",
      "Epoch 28: saving model to C:\\Users\\Emincan\\Desktop\\Gdz\\gdz-competition\\Checkpoints\\Single_Target\\\\100-50(batch8)\\model-028-190536.43750.h5\n",
      "2190/2190 [==============================] - 6s 3ms/step - loss: 199683.0938 - val_loss: 190536.4375 - lr: 0.0010\n",
      "Epoch 29/50\n",
      "2175/2190 [============================>.] - ETA: 0s - loss: 197182.1094\n",
      "Epoch 29: saving model to C:\\Users\\Emincan\\Desktop\\Gdz\\gdz-competition\\Checkpoints\\Single_Target\\\\100-50(batch8)\\model-029-188721.12500.h5\n",
      "2190/2190 [==============================] - 6s 3ms/step - loss: 197887.0312 - val_loss: 188721.1250 - lr: 0.0010\n",
      "Epoch 30/50\n",
      "2190/2190 [==============================] - ETA: 0s - loss: 198391.5938\n",
      "Epoch 30: saving model to C:\\Users\\Emincan\\Desktop\\Gdz\\gdz-competition\\Checkpoints\\Single_Target\\\\100-50(batch8)\\model-030-187490.92188.h5\n",
      "2190/2190 [==============================] - 6s 3ms/step - loss: 198391.5938 - val_loss: 187490.9219 - lr: 0.0010\n",
      "Epoch 31/50\n",
      "2179/2190 [============================>.] - ETA: 0s - loss: 197097.0781\n",
      "Epoch 31: saving model to C:\\Users\\Emincan\\Desktop\\Gdz\\gdz-competition\\Checkpoints\\Single_Target\\\\100-50(batch8)\\model-031-186594.60938.h5\n",
      "2190/2190 [==============================] - 6s 3ms/step - loss: 197283.9062 - val_loss: 186594.6094 - lr: 0.0010\n",
      "Epoch 32/50\n",
      "2180/2190 [============================>.] - ETA: 0s - loss: 196580.8281\n",
      "Epoch 32: saving model to C:\\Users\\Emincan\\Desktop\\Gdz\\gdz-competition\\Checkpoints\\Single_Target\\\\100-50(batch8)\\model-032-185934.98438.h5\n",
      "2190/2190 [==============================] - 6s 3ms/step - loss: 196780.2500 - val_loss: 185934.9844 - lr: 0.0010\n",
      "Epoch 33/50\n",
      "2181/2190 [============================>.] - ETA: 0s - loss: 197478.9375\n",
      "Epoch 33: saving model to C:\\Users\\Emincan\\Desktop\\Gdz\\gdz-competition\\Checkpoints\\Single_Target\\\\100-50(batch8)\\model-033-185520.28125.h5\n",
      "2190/2190 [==============================] - 6s 3ms/step - loss: 197395.4844 - val_loss: 185520.2812 - lr: 0.0010\n",
      "Epoch 34/50\n",
      "2189/2190 [============================>.] - ETA: 0s - loss: 196343.0000\n",
      "Epoch 34: saving model to C:\\Users\\Emincan\\Desktop\\Gdz\\gdz-competition\\Checkpoints\\Single_Target\\\\100-50(batch8)\\model-034-185180.89062.h5\n",
      "2190/2190 [==============================] - 6s 3ms/step - loss: 196362.2188 - val_loss: 185180.8906 - lr: 0.0010\n",
      "Epoch 35/50\n",
      "2180/2190 [============================>.] - ETA: 0s - loss: 178626.3281\n",
      "Epoch 35: saving model to C:\\Users\\Emincan\\Desktop\\Gdz\\gdz-competition\\Checkpoints\\Single_Target\\\\100-50(batch8)\\model-035-139877.67188.h5\n",
      "2190/2190 [==============================] - 6s 3ms/step - loss: 178711.4688 - val_loss: 139877.6719 - lr: 0.0010\n",
      "Epoch 36/50\n",
      "2185/2190 [============================>.] - ETA: 0s - loss: 145732.2344\n",
      "Epoch 36: saving model to C:\\Users\\Emincan\\Desktop\\Gdz\\gdz-competition\\Checkpoints\\Single_Target\\\\100-50(batch8)\\model-036-115861.96094.h5\n",
      "2190/2190 [==============================] - 6s 3ms/step - loss: 145679.2812 - val_loss: 115861.9609 - lr: 0.0010\n",
      "Epoch 37/50\n",
      "2189/2190 [============================>.] - ETA: 0s - loss: 126885.3203\n",
      "Epoch 37: saving model to C:\\Users\\Emincan\\Desktop\\Gdz\\gdz-competition\\Checkpoints\\Single_Target\\\\100-50(batch8)\\model-037-119158.03125.h5\n",
      "2190/2190 [==============================] - 6s 3ms/step - loss: 126917.1719 - val_loss: 119158.0312 - lr: 0.0010\n",
      "Epoch 38/50\n",
      "2184/2190 [============================>.] - ETA: 0s - loss: 121043.5391\n",
      "Epoch 38: saving model to C:\\Users\\Emincan\\Desktop\\Gdz\\gdz-competition\\Checkpoints\\Single_Target\\\\100-50(batch8)\\model-038-93300.66406.h5\n",
      "2190/2190 [==============================] - 6s 3ms/step - loss: 120987.2266 - val_loss: 93300.6641 - lr: 0.0010\n",
      "Epoch 39/50\n",
      "2182/2190 [============================>.] - ETA: 0s - loss: 113968.6953\n",
      "Epoch 39: saving model to C:\\Users\\Emincan\\Desktop\\Gdz\\gdz-competition\\Checkpoints\\Single_Target\\\\100-50(batch8)\\model-039-81929.97656.h5\n",
      "2190/2190 [==============================] - 6s 3ms/step - loss: 113847.2031 - val_loss: 81929.9766 - lr: 0.0010\n",
      "Epoch 40/50\n",
      "2175/2190 [============================>.] - ETA: 0s - loss: 106086.1875\n",
      "Epoch 40: saving model to C:\\Users\\Emincan\\Desktop\\Gdz\\gdz-competition\\Checkpoints\\Single_Target\\\\100-50(batch8)\\model-040-85337.14844.h5\n",
      "2190/2190 [==============================] - 6s 3ms/step - loss: 106727.9453 - val_loss: 85337.1484 - lr: 0.0010\n",
      "Epoch 41/50\n",
      "2188/2190 [============================>.] - ETA: 0s - loss: 103033.6172\n",
      "Epoch 41: saving model to C:\\Users\\Emincan\\Desktop\\Gdz\\gdz-competition\\Checkpoints\\Single_Target\\\\100-50(batch8)\\model-041-68623.53906.h5\n",
      "2190/2190 [==============================] - 6s 3ms/step - loss: 102993.4844 - val_loss: 68623.5391 - lr: 0.0010\n",
      "Epoch 42/50\n",
      "2172/2190 [============================>.] - ETA: 0s - loss: 101168.6953\n",
      "Epoch 42: saving model to C:\\Users\\Emincan\\Desktop\\Gdz\\gdz-competition\\Checkpoints\\Single_Target\\\\100-50(batch8)\\model-042-64003.47266.h5\n",
      "2190/2190 [==============================] - 6s 3ms/step - loss: 101590.6016 - val_loss: 64003.4727 - lr: 0.0010\n",
      "Epoch 43/50\n",
      "2173/2190 [============================>.] - ETA: 0s - loss: 98673.8594\n",
      "Epoch 43: saving model to C:\\Users\\Emincan\\Desktop\\Gdz\\gdz-competition\\Checkpoints\\Single_Target\\\\100-50(batch8)\\model-043-71903.67188.h5\n",
      "2190/2190 [==============================] - 6s 3ms/step - loss: 98938.8594 - val_loss: 71903.6719 - lr: 0.0010\n",
      "Epoch 44/50\n",
      "2189/2190 [============================>.] - ETA: 0s - loss: 97680.1172\n",
      "Epoch 44: saving model to C:\\Users\\Emincan\\Desktop\\Gdz\\gdz-competition\\Checkpoints\\Single_Target\\\\100-50(batch8)\\model-044-64804.11719.h5\n",
      "2190/2190 [==============================] - 6s 3ms/step - loss: 97652.3516 - val_loss: 64804.1172 - lr: 0.0010\n",
      "Epoch 45/50\n",
      "2187/2190 [============================>.] - ETA: 0s - loss: 96972.5469\n",
      "Epoch 45: saving model to C:\\Users\\Emincan\\Desktop\\Gdz\\gdz-competition\\Checkpoints\\Single_Target\\\\100-50(batch8)\\model-045-60327.32422.h5\n",
      "2190/2190 [==============================] - 6s 3ms/step - loss: 96926.2266 - val_loss: 60327.3242 - lr: 0.0010\n",
      "Epoch 46/50\n",
      "2185/2190 [============================>.] - ETA: 0s - loss: 95794.3203\n",
      "Epoch 46: saving model to C:\\Users\\Emincan\\Desktop\\Gdz\\gdz-competition\\Checkpoints\\Single_Target\\\\100-50(batch8)\\model-046-51203.77344.h5\n",
      "2190/2190 [==============================] - 6s 3ms/step - loss: 95699.8047 - val_loss: 51203.7734 - lr: 0.0010\n",
      "Epoch 47/50\n",
      "2178/2190 [============================>.] - ETA: 0s - loss: 94612.2500\n",
      "Epoch 47: saving model to C:\\Users\\Emincan\\Desktop\\Gdz\\gdz-competition\\Checkpoints\\Single_Target\\\\100-50(batch8)\\model-047-48424.82422.h5\n",
      "2190/2190 [==============================] - 6s 3ms/step - loss: 94715.9219 - val_loss: 48424.8242 - lr: 0.0010\n",
      "Epoch 48/50\n",
      "2190/2190 [==============================] - ETA: 0s - loss: 90675.1016\n",
      "Epoch 48: saving model to C:\\Users\\Emincan\\Desktop\\Gdz\\gdz-competition\\Checkpoints\\Single_Target\\\\100-50(batch8)\\model-048-66425.50000.h5\n",
      "2190/2190 [==============================] - 6s 3ms/step - loss: 90675.1016 - val_loss: 66425.5000 - lr: 0.0010\n",
      "Epoch 49/50\n",
      "2171/2190 [============================>.] - ETA: 0s - loss: 91086.3594\n",
      "Epoch 49: saving model to C:\\Users\\Emincan\\Desktop\\Gdz\\gdz-competition\\Checkpoints\\Single_Target\\\\100-50(batch8)\\model-049-55717.51953.h5\n",
      "2190/2190 [==============================] - 6s 3ms/step - loss: 91419.2188 - val_loss: 55717.5195 - lr: 0.0010\n",
      "Epoch 50/50\n",
      "2187/2190 [============================>.] - ETA: 0s - loss: 91643.7188\n",
      "Epoch 50: saving model to C:\\Users\\Emincan\\Desktop\\Gdz\\gdz-competition\\Checkpoints\\Single_Target\\\\100-50(batch8)\\model-050-51365.82031.h5\n",
      "2190/2190 [==============================] - 6s 3ms/step - loss: 91596.0469 - val_loss: 51365.8203 - lr: 0.0010\n",
      "160/160 [==============================] - 0s 1ms/step - loss: 51365.7891\n",
      "Test MSE: 51365.789\n"
     ]
    }
   ],
   "source": [
    "window_size = 24\n",
    "batch_size = 8\n",
    "\n",
    "from keras.models import Sequential\n",
    "from keras.layers import LSTM, Dense , BatchNormalization , Dropout\n",
    "from keras.callbacks import ModelCheckpoint, ReduceLROnPlateau , EarlyStopping\n",
    "\n",
    "# Model oluşturma\n",
    "model = Sequential()\n",
    "# model.add(LSTM(50, input_shape=(window_size, data.shape[1]) ,return_sequences = False))\n",
    "model.add(LSTM(100, input_shape = (1,X_train.shape[2]) ,return_sequences=True))\n",
    "# model.add(LSTM(30, return_sequences=False))\n",
    "model.add(Dropout(0.2))\n",
    "model.add(LSTM(50, input_shape = (1,X_train.shape[2]) ,return_sequences=False))\n",
    "model.add(Dropout(0.2))\n",
    "model.add(Dense(26))\n",
    "model.compile(loss='mse', optimizer='adam')\n",
    "\n",
    "\n",
    "\n",
    "\n",
    "reduce_lr = ReduceLROnPlateau(factor = 0.1 , patience=3)\n",
    "early_stop = EarlyStopping(monitor='val_loss' , patience=6)\n",
    "model_check = ModelCheckpoint(filepath=r'C:\\Users\\Emincan\\Desktop\\Gdz\\gdz-competition\\Checkpoints\\Single_Target\\\\100-50(batch8)\\\\model-{epoch:03d}-{val_loss:.5f}.h5', monitor=\"val_loss\", verbose=1)\n",
    "\n",
    "# # Modeli eğitme\n",
    "# model.fit(X_train , y_train, epochs=30, batch_size = batch_size , validation_data=(X_test , y_test) , callbacks= [reduce_lr , early_stop , model_check] , shuffle=False )\n",
    "history = model.fit(X_train, y_train, epochs=50, batch_size= 16, validation_data=(X_test, y_test), callbacks= [reduce_lr , early_stop, model_check] , shuffle=False)\n",
    "\n",
    "\n",
    "# Modeli değerlendirme\n",
    "mse = model.evaluate(X_test , y_test)\n",
    "print('Test MSE: %.3f' % mse)"
   ]
  },
  {
   "cell_type": "code",
   "execution_count": 38,
   "metadata": {},
   "outputs": [
    {
     "data": {
      "image/png": "[encoded data removed]",
      "text/plain": [
       "<Figure size 640x480 with 1 Axes>"
      ]
     },
     "metadata": {},
     "output_type": "display_data"
    }
   ],
   "source": [
    "# summarize history for loss\n",
    "plt.plot(history.history['loss'])\n",
    "plt.plot(history.history['val_loss'])\n",
    "plt.title('model loss')\n",
    "plt.ylabel('loss')\n",
    "plt.xlabel('epoch')\n",
    "plt.legend(['train', 'test'], loc='upper right')\n",
    "plt.show()"
   ]
  },
  {
   "cell_type": "code",
   "execution_count": 39,
   "metadata": {},
   "outputs": [
    {
     "name": "stdout",
     "output_type": "stream",
     "text": [
      "160/160 [==============================] - 1s 2ms/step\n"
     ]
    }
   ],
   "source": [
    "from sklearn.metrics import mean_squared_error\n",
    "# make a prediction\n",
    "y_pred = model.predict(X_test)\n",
    "X_test = X_test.reshape((X_test.shape[0],X_train.shape[2]))"
   ]
  },
  {
   "cell_type": "code",
   "execution_count": 44,
   "metadata": {},
   "outputs": [
    {
     "data": {
      "text/plain": [
       "array([[1955.9531, 1955.9319, 1955.7211, ..., 1955.7767, 1955.5139,\n",
       "        1955.5438],\n",
       "       [1486.9487, 1487.252 , 1487.0219, ..., 1487.3387, 1487.3363,\n",
       "        1487.3168],\n",
       "       [1486.9487, 1487.252 , 1487.0219, ..., 1487.3387, 1487.3363,\n",
       "        1487.3168],\n",
       "       ...,\n",
       "       [2139.7102, 2139.5376, 2139.5503, ..., 2139.2554, 2139.4163,\n",
       "        2139.4119],\n",
       "       [2139.7102, 2139.5376, 2139.5503, ..., 2139.2554, 2139.4163,\n",
       "        2139.4119],\n",
       "       [2139.7102, 2139.5376, 2139.5503, ..., 2139.2554, 2139.4163,\n",
       "        2139.4119]], dtype=float32)"
      ]
     },
     "execution_count": 44,
     "metadata": {},
     "output_type": "execute_result"
    }
   ],
   "source": [
    "y_pred"
   ]
  },
  {
   "cell_type": "code",
   "execution_count": null,
   "metadata": {},
   "outputs": [],
   "source": [
    "# invert scaling for forecast\n",
    "inv_yhat = np.concatenate((y_pred, X_test[:, -X_train.shape[2]:]), axis=1)\n",
    "inv_yhat = scaler.inverse_transform(inv_yhat)\n",
    "inv_yhat = inv_yhat[:,0]"
   ]
  },
  {
   "cell_type": "code",
   "execution_count": null,
   "metadata": {},
   "outputs": [],
   "source": [
    "# invert scaling for actual\n",
    "test_y = y_test.reshape((len(y_test), 1))\n",
    "inv_y = np.concatenate((y_test, X_test[:, -X_train.shape[2]:]), axis=1)\n",
    "inv_y = scaler.inverse_transform(inv_y)\n",
    "inv_y = inv_y[:,0]\n",
    "# calculate RMSE\n",
    "rmse = np.sqrt(mean_squared_error(inv_y, inv_yhat))\n",
    "print('Test RMSE: %.3f' % rmse)"
   ]
  },
  {
   "attachments": {},
   "cell_type": "markdown",
   "metadata": {},
   "source": [
    "## Import the model"
   ]
  },
  {
   "cell_type": "code",
   "execution_count": null,
   "metadata": {},
   "outputs": [],
   "source": [
    "from tensorflow.keras.models import load_model\n",
    "\n",
    "model = load_model(r\"C:\\Users\\Emincan\\Desktop\\Gdz\\gdz-competition\\Checkpoints\\Single_Target\\\\50(batch8)\\\\model-017-0.00013.h5\")"
   ]
  },
  {
   "attachments": {},
   "cell_type": "markdown",
   "metadata": {},
   "source": [
    "# Eval Metric"
   ]
  },
  {
   "cell_type": "code",
   "execution_count": null,
   "metadata": {},
   "outputs": [],
   "source": [
    "# from eval_metrics import eval_metrics"
   ]
  },
  {
   "attachments": {},
   "cell_type": "markdown",
   "metadata": {},
   "source": [
    "### Predictions"
   ]
  },
  {
   "cell_type": "code",
   "execution_count": null,
   "metadata": {},
   "outputs": [],
   "source": [
    "data.shape"
   ]
  },
  {
   "cell_type": "code",
   "execution_count": null,
   "metadata": {},
   "outputs": [],
   "source": [
    "X_data.shape"
   ]
  },
  {
   "cell_type": "code",
   "execution_count": null,
   "metadata": {},
   "outputs": [],
   "source": [
    "X.shape"
   ]
  },
  {
   "cell_type": "code",
   "execution_count": null,
   "metadata": {},
   "outputs": [],
   "source": [
    "data_last_seq = scaler.transform(data.values)[-24:]\n",
    "# data_last_seq"
   ]
  },
  {
   "cell_type": "code",
   "execution_count": null,
   "metadata": {},
   "outputs": [],
   "source": [
    "data_last_seq"
   ]
  },
  {
   "cell_type": "code",
   "execution_count": null,
   "metadata": {},
   "outputs": [],
   "source": [
    "data_last_seq.shape"
   ]
  },
  {
   "cell_type": "code",
   "execution_count": null,
   "metadata": {},
   "outputs": [],
   "source": [
    "# X[-1]"
   ]
  },
  {
   "cell_type": "code",
   "execution_count": null,
   "metadata": {},
   "outputs": [],
   "source": [
    "# X_data[-1]"
   ]
  },
  {
   "cell_type": "code",
   "execution_count": null,
   "metadata": {},
   "outputs": [],
   "source": [
    "# Elimizdeki verilerin son 24'ü bir sonraki tahmini yapmak için kullanılacak\n",
    "# last_window = X_data[-1]\n",
    "last_window = data_last_seq\n",
    "\n",
    "# 31 gün boyunca tahminler yapmak için bir boş tahmin dizisi oluşturun\n",
    "predictions = []\n",
    "\n",
    "for i in range(31*24):\n",
    "    # Tahmin edilen değerleri ölçeklendirmek için son pencereyi yeniden şekillendirin\n",
    "    last_window_reshaped = last_window.reshape(1, 24, 1)\n",
    "\n",
    "    # Son pencereyi kullanarak bir tahmin yapın\n",
    "    prediction = model.predict(last_window_reshaped , verbose = 0)[0][0]\n",
    "\n",
    "    # Tahmini tahmin listesine ekleyin\n",
    "    predictions.append(prediction)\n",
    "\n",
    "    # Tahmin edilen değeri son pencerenin sonuna ekleyin\n",
    "    last_window = np.append(last_window[1:], prediction)\n",
    "\n",
    "# Tahminleri geri ölçeklendirin\n",
    "predictions = scaler.inverse_transform(np.array(predictions).reshape(-1, 1))\n",
    "\n",
    "# Tahminlerinizi burada kullanabilirsiniz"
   ]
  },
  {
   "attachments": {},
   "cell_type": "markdown",
   "metadata": {},
   "source": [
    "### Visualize Predictions"
   ]
  },
  {
   "cell_type": "code",
   "execution_count": null,
   "metadata": {},
   "outputs": [],
   "source": [
    "# predictions"
   ]
  },
  {
   "cell_type": "code",
   "execution_count": null,
   "metadata": {},
   "outputs": [],
   "source": [
    "future_data['Dağıtılan Enerji (MWh)'] = predictions\n",
    "future_data"
   ]
  },
  {
   "cell_type": "code",
   "execution_count": null,
   "metadata": {},
   "outputs": [],
   "source": [
    "target_data = data[data.index.month == 8]"
   ]
  },
  {
   "cell_type": "code",
   "execution_count": null,
   "metadata": {},
   "outputs": [],
   "source": [
    "target_data_2018 = target_data[target_data.index.year == 2018]\n",
    "target_data_2019 = target_data[target_data.index.year == 2019]\n",
    "target_data_2020 = target_data[target_data.index.year == 2020]\n",
    "target_data_2021 = target_data[target_data.index.year == 2021]"
   ]
  },
  {
   "cell_type": "code",
   "execution_count": null,
   "metadata": {},
   "outputs": [],
   "source": [
    "# target_data_2018"
   ]
  },
  {
   "cell_type": "code",
   "execution_count": null,
   "metadata": {},
   "outputs": [],
   "source": [
    "target_data.mean()"
   ]
  },
  {
   "cell_type": "code",
   "execution_count": null,
   "metadata": {},
   "outputs": [],
   "source": [
    "future_data.values.mean()"
   ]
  },
  {
   "cell_type": "code",
   "execution_count": null,
   "metadata": {},
   "outputs": [],
   "source": [
    "preds_plot(data , future_data , target_data )"
   ]
  },
  {
   "cell_type": "code",
   "execution_count": null,
   "metadata": {},
   "outputs": [],
   "source": [
    "prop_preds = pd.read_csv(r'C:\\Users\\Emincan\\Desktop\\Gdz\\gdz-competition\\Baskasının_Calısmaları\\PROPHET_yabancı.csv' , parse_dates=['Tarih']).set_index('Tarih' , drop = True)\n",
    "preds_plot(data , prop_preds , target_data )"
   ]
  },
  {
   "cell_type": "code",
   "execution_count": null,
   "metadata": {},
   "outputs": [],
   "source": [
    "create_submission(predictions.reshape(-1) , 2)"
   ]
  },
  {
   "cell_type": "code",
   "execution_count": null,
   "metadata": {},
   "outputs": [],
   "source": [
    "# model.save(\"../models/lstm_model_Manual_1.h5\")"
   ]
  },
  {
   "cell_type": "code",
   "execution_count": null,
   "metadata": {},
   "outputs": [],
   "source": [
    "# Done."
   ]
  }
 ],
 "metadata": {
  "kernelspec": {
   "display_name": "Python 3",
   "language": "python",
   "name": "python3"
  },
  "language_info": {
   "codemirror_mode": {
    "name": "ipython",
    "version": 3
   },
   "file_extension": ".py",
   "mimetype": "text/x-python",
   "name": "python",
   "nbconvert_exporter": "python",
   "pygments_lexer": "ipython3",
   "version": "3.10.10"
  },
  "orig_nbformat": 4
 },
 "nbformat": 4,
 "nbformat_minor": 2
}
