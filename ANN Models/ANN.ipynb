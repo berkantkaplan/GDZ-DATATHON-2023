{
 "cells": [
  {
   "cell_type": "code",
   "execution_count": 1,
   "metadata": {},
   "outputs": [],
   "source": [
    "import numpy as np\n",
    "import pandas as pd\n",
    "\n",
    "import matplotlib.pyplot as plt\n",
    "import seaborn as sns\n",
    "\n",
    "import warnings\n",
    "warnings.filterwarnings('ignore')"
   ]
  },
  {
   "attachments": {},
   "cell_type": "markdown",
   "metadata": {},
   "source": [
    "# Read the Data"
   ]
  },
  {
   "cell_type": "code",
   "execution_count": 2,
   "metadata": {},
   "outputs": [],
   "source": [
    "data = pd.read_csv(\"train.csv\")\n",
    "data.head()\n",
    "data_copy = data.copy()\n",
    "data_copy['Tarih'] = pd.to_datetime(data_copy['Tarih'])"
   ]
  },
  {
   "cell_type": "code",
   "execution_count": 3,
   "metadata": {},
   "outputs": [
    {
     "data": {
      "text/html": [
       "<div>\n",
       "<style scoped>\n",
       "    .dataframe tbody tr th:only-of-type {\n",
       "        vertical-align: middle;\n",
       "    }\n",
       "\n",
       "    .dataframe tbody tr th {\n",
       "        vertical-align: top;\n",
       "    }\n",
       "\n",
       "    .dataframe thead th {\n",
       "        text-align: right;\n",
       "    }\n",
       "</style>\n",
       "<table border=\"1\" class=\"dataframe\">\n",
       "  <thead>\n",
       "    <tr style=\"text-align: right;\">\n",
       "      <th></th>\n",
       "      <th>Tarih</th>\n",
       "      <th>Dağıtılan Enerji (MWh)</th>\n",
       "    </tr>\n",
       "  </thead>\n",
       "  <tbody>\n",
       "    <tr>\n",
       "      <th>0</th>\n",
       "      <td>2022-08-01 00:00:00</td>\n",
       "      <td>NaN</td>\n",
       "    </tr>\n",
       "    <tr>\n",
       "      <th>1</th>\n",
       "      <td>2022-08-01 01:00:00</td>\n",
       "      <td>NaN</td>\n",
       "    </tr>\n",
       "    <tr>\n",
       "      <th>2</th>\n",
       "      <td>2022-08-01 02:00:00</td>\n",
       "      <td>NaN</td>\n",
       "    </tr>\n",
       "    <tr>\n",
       "      <th>3</th>\n",
       "      <td>2022-08-01 03:00:00</td>\n",
       "      <td>NaN</td>\n",
       "    </tr>\n",
       "    <tr>\n",
       "      <th>4</th>\n",
       "      <td>2022-08-01 04:00:00</td>\n",
       "      <td>NaN</td>\n",
       "    </tr>\n",
       "  </tbody>\n",
       "</table>\n",
       "</div>"
      ],
      "text/plain": [
       "                 Tarih  Dağıtılan Enerji (MWh)\n",
       "0  2022-08-01 00:00:00                     NaN\n",
       "1  2022-08-01 01:00:00                     NaN\n",
       "2  2022-08-01 02:00:00                     NaN\n",
       "3  2022-08-01 03:00:00                     NaN\n",
       "4  2022-08-01 04:00:00                     NaN"
      ]
     },
     "execution_count": 3,
     "metadata": {},
     "output_type": "execute_result"
    }
   ],
   "source": [
    "future_df = pd.read_csv(\"future.csv\").drop('Unnamed: 0' , axis = 1)\n",
    "future_df.head()"
   ]
  },
  {
   "cell_type": "code",
   "execution_count": 4,
   "metadata": {},
   "outputs": [
    {
     "data": {
      "text/html": [
       "<div>\n",
       "<style scoped>\n",
       "    .dataframe tbody tr th:only-of-type {\n",
       "        vertical-align: middle;\n",
       "    }\n",
       "\n",
       "    .dataframe tbody tr th {\n",
       "        vertical-align: top;\n",
       "    }\n",
       "\n",
       "    .dataframe thead th {\n",
       "        text-align: right;\n",
       "    }\n",
       "</style>\n",
       "<table border=\"1\" class=\"dataframe\">\n",
       "  <thead>\n",
       "    <tr style=\"text-align: right;\">\n",
       "      <th></th>\n",
       "      <th>Tarih</th>\n",
       "    </tr>\n",
       "  </thead>\n",
       "  <tbody>\n",
       "    <tr>\n",
       "      <th>18</th>\n",
       "      <td>2021-08-02</td>\n",
       "    </tr>\n",
       "    <tr>\n",
       "      <th>29</th>\n",
       "      <td>2021-08-03</td>\n",
       "    </tr>\n",
       "  </tbody>\n",
       "</table>\n",
       "</div>"
      ],
      "text/plain": [
       "        Tarih\n",
       "18 2021-08-02\n",
       "29 2021-08-03"
      ]
     },
     "execution_count": 4,
     "metadata": {},
     "output_type": "execute_result"
    }
   ],
   "source": [
    "med = pd.read_csv('med.csv')\n",
    "med['Tarih'] = pd.to_datetime(med['Tarih'])\n",
    "med[med['Tarih'].dt.month == 8]"
   ]
  },
  {
   "attachments": {},
   "cell_type": "markdown",
   "metadata": {},
   "source": [
    "# Describe the Data"
   ]
  },
  {
   "cell_type": "code",
   "execution_count": 5,
   "metadata": {},
   "outputs": [
    {
     "data": {
      "text/plain": [
       "(40152, 2)"
      ]
     },
     "execution_count": 5,
     "metadata": {},
     "output_type": "execute_result"
    }
   ],
   "source": [
    "data.shape"
   ]
  },
  {
   "cell_type": "code",
   "execution_count": 6,
   "metadata": {},
   "outputs": [
    {
     "name": "stdout",
     "output_type": "stream",
     "text": [
      "<class 'pandas.core.frame.DataFrame'>\n",
      "RangeIndex: 40152 entries, 0 to 40151\n",
      "Data columns (total 2 columns):\n",
      " #   Column                  Non-Null Count  Dtype  \n",
      "---  ------                  --------------  -----  \n",
      " 0   Tarih                   40152 non-null  object \n",
      " 1   Dağıtılan Enerji (MWh)  40152 non-null  float64\n",
      "dtypes: float64(1), object(1)\n",
      "memory usage: 627.5+ KB\n"
     ]
    }
   ],
   "source": [
    "data.info()"
   ]
  },
  {
   "cell_type": "code",
   "execution_count": 7,
   "metadata": {},
   "outputs": [
    {
     "name": "stdout",
     "output_type": "stream",
     "text": [
      "<class 'pandas.core.frame.DataFrame'>\n",
      "RangeIndex: 40152 entries, 0 to 40151\n",
      "Data columns (total 2 columns):\n",
      " #   Column                  Non-Null Count  Dtype         \n",
      "---  ------                  --------------  -----         \n",
      " 0   Tarih                   40152 non-null  datetime64[ns]\n",
      " 1   Dağıtılan Enerji (MWh)  40152 non-null  float64       \n",
      "dtypes: datetime64[ns](1), float64(1)\n",
      "memory usage: 627.5 KB\n"
     ]
    }
   ],
   "source": [
    "data['Tarih'] = pd.to_datetime(data['Tarih'])\n",
    "future_df['Tarih'] = pd.to_datetime(future_df['Tarih'])\n",
    "# data.set_index('Tarih', inplace=True)\n",
    "# future_df.set_index('Tarih' , inplace=True)\n",
    "\n",
    "data.info()"
   ]
  },
  {
   "cell_type": "code",
   "execution_count": 8,
   "metadata": {},
   "outputs": [
    {
     "data": {
      "text/html": [
       "<div>\n",
       "<style scoped>\n",
       "    .dataframe tbody tr th:only-of-type {\n",
       "        vertical-align: middle;\n",
       "    }\n",
       "\n",
       "    .dataframe tbody tr th {\n",
       "        vertical-align: top;\n",
       "    }\n",
       "\n",
       "    .dataframe thead th {\n",
       "        text-align: right;\n",
       "    }\n",
       "</style>\n",
       "<table border=\"1\" class=\"dataframe\">\n",
       "  <thead>\n",
       "    <tr style=\"text-align: right;\">\n",
       "      <th></th>\n",
       "      <th>count</th>\n",
       "      <th>mean</th>\n",
       "      <th>std</th>\n",
       "      <th>min</th>\n",
       "      <th>25%</th>\n",
       "      <th>50%</th>\n",
       "      <th>75%</th>\n",
       "      <th>max</th>\n",
       "    </tr>\n",
       "  </thead>\n",
       "  <tbody>\n",
       "    <tr>\n",
       "      <th>Dağıtılan Enerji (MWh)</th>\n",
       "      <td>40152.0</td>\n",
       "      <td>1836.805287</td>\n",
       "      <td>426.066085</td>\n",
       "      <td>870.18328</td>\n",
       "      <td>1499.165048</td>\n",
       "      <td>1813.409221</td>\n",
       "      <td>2129.407998</td>\n",
       "      <td>3633.105297</td>\n",
       "    </tr>\n",
       "  </tbody>\n",
       "</table>\n",
       "</div>"
      ],
      "text/plain": [
       "                          count         mean         std        min  \\\n",
       "Dağıtılan Enerji (MWh)  40152.0  1836.805287  426.066085  870.18328   \n",
       "\n",
       "                                25%          50%          75%          max  \n",
       "Dağıtılan Enerji (MWh)  1499.165048  1813.409221  2129.407998  3633.105297  "
      ]
     },
     "execution_count": 8,
     "metadata": {},
     "output_type": "execute_result"
    }
   ],
   "source": [
    "data.describe().T"
   ]
  },
  {
   "attachments": {},
   "cell_type": "markdown",
   "metadata": {},
   "source": [
    "# Plot the Data"
   ]
  },
  {
   "cell_type": "code",
   "execution_count": null,
   "metadata": {},
   "outputs": [],
   "source": []
  },
  {
   "cell_type": "code",
   "execution_count": null,
   "metadata": {},
   "outputs": [],
   "source": []
  },
  {
   "attachments": {},
   "cell_type": "markdown",
   "metadata": {},
   "source": [
    "# ANN Model"
   ]
  },
  {
   "attachments": {},
   "cell_type": "markdown",
   "metadata": {},
   "source": [
    "## Train | Test Split"
   ]
  },
  {
   "cell_type": "code",
   "execution_count": 9,
   "metadata": {},
   "outputs": [],
   "source": [
    "import tensorflow as tf\n",
    "\n",
    "# Seed ayarlamak\n",
    "seed_value = 53\n",
    "tf.keras.utils.set_random_seed(seed_value)"
   ]
  },
  {
   "cell_type": "code",
   "execution_count": 10,
   "metadata": {},
   "outputs": [],
   "source": [
    "test_df = data.loc[data.Tarih > '2022-07-23 23:00:00'].copy()\n",
    "train_df = data.loc[data.Tarih <= '2022-07-23 23:00:00'].copy()\n",
    "\n",
    "val_df = train_df[-96:]\n",
    "train_df = train_df[:-96]"
   ]
  },
  {
   "cell_type": "code",
   "execution_count": 11,
   "metadata": {},
   "outputs": [
    {
     "name": "stdout",
     "output_type": "stream",
     "text": [
      "X_train max : Tarih                     2022-07-19 23:00:00\n",
      "Dağıtılan Enerji (MWh)            3633.105297\n",
      "dtype: object\n",
      "\n",
      "\n",
      "X_val max : Tarih                     2022-07-23 23:00:00\n",
      "Dağıtılan Enerji (MWh)            2812.085678\n",
      "dtype: object\n",
      "X_test max : Tarih                     2022-07-31 23:00:00\n",
      "Dağıtılan Enerji (MWh)            3079.546897\n",
      "dtype: object\n",
      "\n",
      "\n",
      "\n",
      "\n",
      "X_train min : Tarih                     2018-01-01 00:00:00\n",
      "Dağıtılan Enerji (MWh)              870.18328\n",
      "dtype: object\n",
      "\n",
      "\n",
      "X_val min : Tarih                     2022-07-20 00:00:00\n",
      "Dağıtılan Enerji (MWh)            1596.356554\n",
      "dtype: object\n",
      "X_test min : Tarih                     2022-07-24 00:00:00\n",
      "Dağıtılan Enerji (MWh)            1594.214702\n",
      "dtype: object\n"
     ]
    }
   ],
   "source": [
    "print(f\"X_train max : {train_df.max()}\\n\\n\")\n",
    "print(f\"X_val max : {val_df.max()}\")\n",
    "print(f\"X_test max : {test_df.max()}\\n\\n\\n\\n\")\n",
    "\n",
    "print(f\"X_train min : {train_df.min()}\\n\\n\")\n",
    "print(f\"X_val min : {val_df.min()}\")\n",
    "print(f\"X_test min : {test_df.min()}\")"
   ]
  },
  {
   "attachments": {},
   "cell_type": "markdown",
   "metadata": {},
   "source": [
    "# Feature Creators"
   ]
  },
  {
   "cell_type": "code",
   "execution_count": 12,
   "metadata": {},
   "outputs": [],
   "source": [
    "all_df = [train_df , val_df , test_df , future_df , data]"
   ]
  },
  {
   "cell_type": "code",
   "execution_count": 13,
   "metadata": {},
   "outputs": [],
   "source": [
    "from eval_metrics import eval_metrics\n",
    "from feat_engs import create_datetimes, create_holiday_weekend, create_electricOutage_timeofDay, create_businessDay_cumulativeholidays, create_outage_rolling_percentages, create_hourly_sin_cos, create_seasons"
   ]
  },
  {
   "cell_type": "code",
   "execution_count": 14,
   "metadata": {},
   "outputs": [],
   "source": [
    "for df in all_df:\n",
    "    create_datetimes(df)\n",
    "    create_holiday_weekend(df)\n",
    "    create_electricOutage_timeofDay(df,med)\n",
    "    create_businessDay_cumulativeholidays(df)\n",
    "    create_outage_rolling_percentages(df)\n",
    "    create_hourly_sin_cos(df)\n",
    "    create_seasons(df)\n",
    "    df.drop('date' , axis=1 , inplace= True)\n",
    "    df.set_index('Tarih' , inplace= True)"
   ]
  },
  {
   "cell_type": "code",
   "execution_count": 15,
   "metadata": {},
   "outputs": [
    {
     "name": "stdout",
     "output_type": "stream",
     "text": [
      "(39864, 26)\n"
     ]
    },
    {
     "data": {
      "text/html": [
       "<div>\n",
       "<style scoped>\n",
       "    .dataframe tbody tr th:only-of-type {\n",
       "        vertical-align: middle;\n",
       "    }\n",
       "\n",
       "    .dataframe tbody tr th {\n",
       "        vertical-align: top;\n",
       "    }\n",
       "\n",
       "    .dataframe thead th {\n",
       "        text-align: right;\n",
       "    }\n",
       "</style>\n",
       "<table border=\"1\" class=\"dataframe\">\n",
       "  <thead>\n",
       "    <tr style=\"text-align: right;\">\n",
       "      <th></th>\n",
       "      <th>Dağıtılan Enerji (MWh)</th>\n",
       "      <th>hour</th>\n",
       "      <th>dayofweek</th>\n",
       "      <th>quarter</th>\n",
       "      <th>month</th>\n",
       "      <th>year</th>\n",
       "      <th>dayofyear</th>\n",
       "      <th>dayofmonth</th>\n",
       "      <th>weekofyear</th>\n",
       "      <th>holiday</th>\n",
       "      <th>...</th>\n",
       "      <th>rolling_outages_24h</th>\n",
       "      <th>exp_avg_outages_24h</th>\n",
       "      <th>hour_sin</th>\n",
       "      <th>hour_cos</th>\n",
       "      <th>is_spring</th>\n",
       "      <th>is_summer</th>\n",
       "      <th>is_autumn</th>\n",
       "      <th>is_winter</th>\n",
       "      <th>is_weekend</th>\n",
       "      <th>is_weekday</th>\n",
       "    </tr>\n",
       "    <tr>\n",
       "      <th>Tarih</th>\n",
       "      <th></th>\n",
       "      <th></th>\n",
       "      <th></th>\n",
       "      <th></th>\n",
       "      <th></th>\n",
       "      <th></th>\n",
       "      <th></th>\n",
       "      <th></th>\n",
       "      <th></th>\n",
       "      <th></th>\n",
       "      <th></th>\n",
       "      <th></th>\n",
       "      <th></th>\n",
       "      <th></th>\n",
       "      <th></th>\n",
       "      <th></th>\n",
       "      <th></th>\n",
       "      <th></th>\n",
       "      <th></th>\n",
       "      <th></th>\n",
       "      <th></th>\n",
       "    </tr>\n",
       "  </thead>\n",
       "  <tbody>\n",
       "    <tr>\n",
       "      <th>2018-01-01 00:00:00</th>\n",
       "      <td>1593.944216</td>\n",
       "      <td>0</td>\n",
       "      <td>0</td>\n",
       "      <td>1</td>\n",
       "      <td>1</td>\n",
       "      <td>2018</td>\n",
       "      <td>1</td>\n",
       "      <td>1</td>\n",
       "      <td>1</td>\n",
       "      <td>1</td>\n",
       "      <td>...</td>\n",
       "      <td>0.0</td>\n",
       "      <td>0.0</td>\n",
       "      <td>0.000000</td>\n",
       "      <td>1.000000</td>\n",
       "      <td>0</td>\n",
       "      <td>0</td>\n",
       "      <td>0</td>\n",
       "      <td>0</td>\n",
       "      <td>0</td>\n",
       "      <td>-1</td>\n",
       "    </tr>\n",
       "    <tr>\n",
       "      <th>2018-01-01 01:00:00</th>\n",
       "      <td>1513.933887</td>\n",
       "      <td>1</td>\n",
       "      <td>0</td>\n",
       "      <td>1</td>\n",
       "      <td>1</td>\n",
       "      <td>2018</td>\n",
       "      <td>1</td>\n",
       "      <td>1</td>\n",
       "      <td>1</td>\n",
       "      <td>1</td>\n",
       "      <td>...</td>\n",
       "      <td>0.0</td>\n",
       "      <td>0.0</td>\n",
       "      <td>0.258819</td>\n",
       "      <td>0.965926</td>\n",
       "      <td>0</td>\n",
       "      <td>0</td>\n",
       "      <td>0</td>\n",
       "      <td>0</td>\n",
       "      <td>0</td>\n",
       "      <td>-1</td>\n",
       "    </tr>\n",
       "  </tbody>\n",
       "</table>\n",
       "<p>2 rows × 26 columns</p>\n",
       "</div>"
      ],
      "text/plain": [
       "                     Dağıtılan Enerji (MWh)  hour  dayofweek  quarter  month  \\\n",
       "Tarih                                                                          \n",
       "2018-01-01 00:00:00             1593.944216     0          0        1      1   \n",
       "2018-01-01 01:00:00             1513.933887     1          0        1      1   \n",
       "\n",
       "                     year  dayofyear  dayofmonth  weekofyear  holiday  ...  \\\n",
       "Tarih                                                                  ...   \n",
       "2018-01-01 00:00:00  2018          1           1           1        1  ...   \n",
       "2018-01-01 01:00:00  2018          1           1           1        1  ...   \n",
       "\n",
       "                     rolling_outages_24h  exp_avg_outages_24h  hour_sin  \\\n",
       "Tarih                                                                     \n",
       "2018-01-01 00:00:00                  0.0                  0.0  0.000000   \n",
       "2018-01-01 01:00:00                  0.0                  0.0  0.258819   \n",
       "\n",
       "                     hour_cos  is_spring  is_summer  is_autumn  is_winter  \\\n",
       "Tarih                                                                       \n",
       "2018-01-01 00:00:00  1.000000          0          0          0          0   \n",
       "2018-01-01 01:00:00  0.965926          0          0          0          0   \n",
       "\n",
       "                     is_weekend  is_weekday  \n",
       "Tarih                                        \n",
       "2018-01-01 00:00:00           0          -1  \n",
       "2018-01-01 01:00:00           0          -1  \n",
       "\n",
       "[2 rows x 26 columns]"
      ]
     },
     "execution_count": 15,
     "metadata": {},
     "output_type": "execute_result"
    }
   ],
   "source": [
    "print(train_df.shape)\n",
    "train_df.head(2)"
   ]
  },
  {
   "cell_type": "code",
   "execution_count": 16,
   "metadata": {},
   "outputs": [
    {
     "name": "stdout",
     "output_type": "stream",
     "text": [
      "(96, 26)\n"
     ]
    },
    {
     "data": {
      "text/html": [
       "<div>\n",
       "<style scoped>\n",
       "    .dataframe tbody tr th:only-of-type {\n",
       "        vertical-align: middle;\n",
       "    }\n",
       "\n",
       "    .dataframe tbody tr th {\n",
       "        vertical-align: top;\n",
       "    }\n",
       "\n",
       "    .dataframe thead th {\n",
       "        text-align: right;\n",
       "    }\n",
       "</style>\n",
       "<table border=\"1\" class=\"dataframe\">\n",
       "  <thead>\n",
       "    <tr style=\"text-align: right;\">\n",
       "      <th></th>\n",
       "      <th>Dağıtılan Enerji (MWh)</th>\n",
       "      <th>hour</th>\n",
       "      <th>dayofweek</th>\n",
       "      <th>quarter</th>\n",
       "      <th>month</th>\n",
       "      <th>year</th>\n",
       "      <th>dayofyear</th>\n",
       "      <th>dayofmonth</th>\n",
       "      <th>weekofyear</th>\n",
       "      <th>holiday</th>\n",
       "      <th>...</th>\n",
       "      <th>rolling_outages_24h</th>\n",
       "      <th>exp_avg_outages_24h</th>\n",
       "      <th>hour_sin</th>\n",
       "      <th>hour_cos</th>\n",
       "      <th>is_spring</th>\n",
       "      <th>is_summer</th>\n",
       "      <th>is_autumn</th>\n",
       "      <th>is_winter</th>\n",
       "      <th>is_weekend</th>\n",
       "      <th>is_weekday</th>\n",
       "    </tr>\n",
       "    <tr>\n",
       "      <th>Tarih</th>\n",
       "      <th></th>\n",
       "      <th></th>\n",
       "      <th></th>\n",
       "      <th></th>\n",
       "      <th></th>\n",
       "      <th></th>\n",
       "      <th></th>\n",
       "      <th></th>\n",
       "      <th></th>\n",
       "      <th></th>\n",
       "      <th></th>\n",
       "      <th></th>\n",
       "      <th></th>\n",
       "      <th></th>\n",
       "      <th></th>\n",
       "      <th></th>\n",
       "      <th></th>\n",
       "      <th></th>\n",
       "      <th></th>\n",
       "      <th></th>\n",
       "      <th></th>\n",
       "    </tr>\n",
       "  </thead>\n",
       "  <tbody>\n",
       "    <tr>\n",
       "      <th>2022-07-20 00:00:00</th>\n",
       "      <td>1972.864041</td>\n",
       "      <td>0</td>\n",
       "      <td>2</td>\n",
       "      <td>3</td>\n",
       "      <td>7</td>\n",
       "      <td>2022</td>\n",
       "      <td>201</td>\n",
       "      <td>20</td>\n",
       "      <td>29</td>\n",
       "      <td>0</td>\n",
       "      <td>...</td>\n",
       "      <td>0.0</td>\n",
       "      <td>0.0</td>\n",
       "      <td>0.000000</td>\n",
       "      <td>1.000000</td>\n",
       "      <td>0</td>\n",
       "      <td>1</td>\n",
       "      <td>0</td>\n",
       "      <td>0</td>\n",
       "      <td>0</td>\n",
       "      <td>-1</td>\n",
       "    </tr>\n",
       "    <tr>\n",
       "      <th>2022-07-20 01:00:00</th>\n",
       "      <td>1833.400302</td>\n",
       "      <td>1</td>\n",
       "      <td>2</td>\n",
       "      <td>3</td>\n",
       "      <td>7</td>\n",
       "      <td>2022</td>\n",
       "      <td>201</td>\n",
       "      <td>20</td>\n",
       "      <td>29</td>\n",
       "      <td>0</td>\n",
       "      <td>...</td>\n",
       "      <td>0.0</td>\n",
       "      <td>0.0</td>\n",
       "      <td>0.258819</td>\n",
       "      <td>0.965926</td>\n",
       "      <td>0</td>\n",
       "      <td>1</td>\n",
       "      <td>0</td>\n",
       "      <td>0</td>\n",
       "      <td>0</td>\n",
       "      <td>-1</td>\n",
       "    </tr>\n",
       "  </tbody>\n",
       "</table>\n",
       "<p>2 rows × 26 columns</p>\n",
       "</div>"
      ],
      "text/plain": [
       "                     Dağıtılan Enerji (MWh)  hour  dayofweek  quarter  month  \\\n",
       "Tarih                                                                          \n",
       "2022-07-20 00:00:00             1972.864041     0          2        3      7   \n",
       "2022-07-20 01:00:00             1833.400302     1          2        3      7   \n",
       "\n",
       "                     year  dayofyear  dayofmonth  weekofyear  holiday  ...  \\\n",
       "Tarih                                                                  ...   \n",
       "2022-07-20 00:00:00  2022        201          20          29        0  ...   \n",
       "2022-07-20 01:00:00  2022        201          20          29        0  ...   \n",
       "\n",
       "                     rolling_outages_24h  exp_avg_outages_24h  hour_sin  \\\n",
       "Tarih                                                                     \n",
       "2022-07-20 00:00:00                  0.0                  0.0  0.000000   \n",
       "2022-07-20 01:00:00                  0.0                  0.0  0.258819   \n",
       "\n",
       "                     hour_cos  is_spring  is_summer  is_autumn  is_winter  \\\n",
       "Tarih                                                                       \n",
       "2022-07-20 00:00:00  1.000000          0          1          0          0   \n",
       "2022-07-20 01:00:00  0.965926          0          1          0          0   \n",
       "\n",
       "                     is_weekend  is_weekday  \n",
       "Tarih                                        \n",
       "2022-07-20 00:00:00           0          -1  \n",
       "2022-07-20 01:00:00           0          -1  \n",
       "\n",
       "[2 rows x 26 columns]"
      ]
     },
     "execution_count": 16,
     "metadata": {},
     "output_type": "execute_result"
    }
   ],
   "source": [
    "print(val_df.shape)\n",
    "val_df.head(2)"
   ]
  },
  {
   "cell_type": "code",
   "execution_count": 17,
   "metadata": {},
   "outputs": [
    {
     "name": "stdout",
     "output_type": "stream",
     "text": [
      "(192, 26)\n"
     ]
    },
    {
     "data": {
      "text/html": [
       "<div>\n",
       "<style scoped>\n",
       "    .dataframe tbody tr th:only-of-type {\n",
       "        vertical-align: middle;\n",
       "    }\n",
       "\n",
       "    .dataframe tbody tr th {\n",
       "        vertical-align: top;\n",
       "    }\n",
       "\n",
       "    .dataframe thead th {\n",
       "        text-align: right;\n",
       "    }\n",
       "</style>\n",
       "<table border=\"1\" class=\"dataframe\">\n",
       "  <thead>\n",
       "    <tr style=\"text-align: right;\">\n",
       "      <th></th>\n",
       "      <th>Dağıtılan Enerji (MWh)</th>\n",
       "      <th>hour</th>\n",
       "      <th>dayofweek</th>\n",
       "      <th>quarter</th>\n",
       "      <th>month</th>\n",
       "      <th>year</th>\n",
       "      <th>dayofyear</th>\n",
       "      <th>dayofmonth</th>\n",
       "      <th>weekofyear</th>\n",
       "      <th>holiday</th>\n",
       "      <th>...</th>\n",
       "      <th>rolling_outages_24h</th>\n",
       "      <th>exp_avg_outages_24h</th>\n",
       "      <th>hour_sin</th>\n",
       "      <th>hour_cos</th>\n",
       "      <th>is_spring</th>\n",
       "      <th>is_summer</th>\n",
       "      <th>is_autumn</th>\n",
       "      <th>is_winter</th>\n",
       "      <th>is_weekend</th>\n",
       "      <th>is_weekday</th>\n",
       "    </tr>\n",
       "    <tr>\n",
       "      <th>Tarih</th>\n",
       "      <th></th>\n",
       "      <th></th>\n",
       "      <th></th>\n",
       "      <th></th>\n",
       "      <th></th>\n",
       "      <th></th>\n",
       "      <th></th>\n",
       "      <th></th>\n",
       "      <th></th>\n",
       "      <th></th>\n",
       "      <th></th>\n",
       "      <th></th>\n",
       "      <th></th>\n",
       "      <th></th>\n",
       "      <th></th>\n",
       "      <th></th>\n",
       "      <th></th>\n",
       "      <th></th>\n",
       "      <th></th>\n",
       "      <th></th>\n",
       "      <th></th>\n",
       "    </tr>\n",
       "  </thead>\n",
       "  <tbody>\n",
       "    <tr>\n",
       "      <th>2022-07-24 00:00:00</th>\n",
       "      <td>2055.091859</td>\n",
       "      <td>0</td>\n",
       "      <td>6</td>\n",
       "      <td>3</td>\n",
       "      <td>7</td>\n",
       "      <td>2022</td>\n",
       "      <td>205</td>\n",
       "      <td>24</td>\n",
       "      <td>29</td>\n",
       "      <td>0</td>\n",
       "      <td>...</td>\n",
       "      <td>0.0</td>\n",
       "      <td>0.0</td>\n",
       "      <td>0.000000</td>\n",
       "      <td>1.000000</td>\n",
       "      <td>0</td>\n",
       "      <td>1</td>\n",
       "      <td>0</td>\n",
       "      <td>0</td>\n",
       "      <td>0</td>\n",
       "      <td>-1</td>\n",
       "    </tr>\n",
       "    <tr>\n",
       "      <th>2022-07-24 01:00:00</th>\n",
       "      <td>1930.490383</td>\n",
       "      <td>1</td>\n",
       "      <td>6</td>\n",
       "      <td>3</td>\n",
       "      <td>7</td>\n",
       "      <td>2022</td>\n",
       "      <td>205</td>\n",
       "      <td>24</td>\n",
       "      <td>29</td>\n",
       "      <td>0</td>\n",
       "      <td>...</td>\n",
       "      <td>0.0</td>\n",
       "      <td>0.0</td>\n",
       "      <td>0.258819</td>\n",
       "      <td>0.965926</td>\n",
       "      <td>0</td>\n",
       "      <td>1</td>\n",
       "      <td>0</td>\n",
       "      <td>0</td>\n",
       "      <td>0</td>\n",
       "      <td>-1</td>\n",
       "    </tr>\n",
       "  </tbody>\n",
       "</table>\n",
       "<p>2 rows × 26 columns</p>\n",
       "</div>"
      ],
      "text/plain": [
       "                     Dağıtılan Enerji (MWh)  hour  dayofweek  quarter  month  \\\n",
       "Tarih                                                                          \n",
       "2022-07-24 00:00:00             2055.091859     0          6        3      7   \n",
       "2022-07-24 01:00:00             1930.490383     1          6        3      7   \n",
       "\n",
       "                     year  dayofyear  dayofmonth  weekofyear  holiday  ...  \\\n",
       "Tarih                                                                  ...   \n",
       "2022-07-24 00:00:00  2022        205          24          29        0  ...   \n",
       "2022-07-24 01:00:00  2022        205          24          29        0  ...   \n",
       "\n",
       "                     rolling_outages_24h  exp_avg_outages_24h  hour_sin  \\\n",
       "Tarih                                                                     \n",
       "2022-07-24 00:00:00                  0.0                  0.0  0.000000   \n",
       "2022-07-24 01:00:00                  0.0                  0.0  0.258819   \n",
       "\n",
       "                     hour_cos  is_spring  is_summer  is_autumn  is_winter  \\\n",
       "Tarih                                                                       \n",
       "2022-07-24 00:00:00  1.000000          0          1          0          0   \n",
       "2022-07-24 01:00:00  0.965926          0          1          0          0   \n",
       "\n",
       "                     is_weekend  is_weekday  \n",
       "Tarih                                        \n",
       "2022-07-24 00:00:00           0          -1  \n",
       "2022-07-24 01:00:00           0          -1  \n",
       "\n",
       "[2 rows x 26 columns]"
      ]
     },
     "execution_count": 17,
     "metadata": {},
     "output_type": "execute_result"
    }
   ],
   "source": [
    "print(test_df.shape)\n",
    "test_df.head(2)"
   ]
  },
  {
   "cell_type": "code",
   "execution_count": 18,
   "metadata": {},
   "outputs": [
    {
     "name": "stdout",
     "output_type": "stream",
     "text": [
      "(744, 26)\n"
     ]
    },
    {
     "data": {
      "text/html": [
       "<div>\n",
       "<style scoped>\n",
       "    .dataframe tbody tr th:only-of-type {\n",
       "        vertical-align: middle;\n",
       "    }\n",
       "\n",
       "    .dataframe tbody tr th {\n",
       "        vertical-align: top;\n",
       "    }\n",
       "\n",
       "    .dataframe thead th {\n",
       "        text-align: right;\n",
       "    }\n",
       "</style>\n",
       "<table border=\"1\" class=\"dataframe\">\n",
       "  <thead>\n",
       "    <tr style=\"text-align: right;\">\n",
       "      <th></th>\n",
       "      <th>Dağıtılan Enerji (MWh)</th>\n",
       "      <th>hour</th>\n",
       "      <th>dayofweek</th>\n",
       "      <th>quarter</th>\n",
       "      <th>month</th>\n",
       "      <th>year</th>\n",
       "      <th>dayofyear</th>\n",
       "      <th>dayofmonth</th>\n",
       "      <th>weekofyear</th>\n",
       "      <th>holiday</th>\n",
       "      <th>...</th>\n",
       "      <th>rolling_outages_24h</th>\n",
       "      <th>exp_avg_outages_24h</th>\n",
       "      <th>hour_sin</th>\n",
       "      <th>hour_cos</th>\n",
       "      <th>is_spring</th>\n",
       "      <th>is_summer</th>\n",
       "      <th>is_autumn</th>\n",
       "      <th>is_winter</th>\n",
       "      <th>is_weekend</th>\n",
       "      <th>is_weekday</th>\n",
       "    </tr>\n",
       "    <tr>\n",
       "      <th>Tarih</th>\n",
       "      <th></th>\n",
       "      <th></th>\n",
       "      <th></th>\n",
       "      <th></th>\n",
       "      <th></th>\n",
       "      <th></th>\n",
       "      <th></th>\n",
       "      <th></th>\n",
       "      <th></th>\n",
       "      <th></th>\n",
       "      <th></th>\n",
       "      <th></th>\n",
       "      <th></th>\n",
       "      <th></th>\n",
       "      <th></th>\n",
       "      <th></th>\n",
       "      <th></th>\n",
       "      <th></th>\n",
       "      <th></th>\n",
       "      <th></th>\n",
       "      <th></th>\n",
       "    </tr>\n",
       "  </thead>\n",
       "  <tbody>\n",
       "    <tr>\n",
       "      <th>2022-08-01 00:00:00</th>\n",
       "      <td>NaN</td>\n",
       "      <td>0</td>\n",
       "      <td>0</td>\n",
       "      <td>3</td>\n",
       "      <td>8</td>\n",
       "      <td>2022</td>\n",
       "      <td>213</td>\n",
       "      <td>1</td>\n",
       "      <td>31</td>\n",
       "      <td>0</td>\n",
       "      <td>...</td>\n",
       "      <td>0.0</td>\n",
       "      <td>0.0</td>\n",
       "      <td>0.000000</td>\n",
       "      <td>1.000000</td>\n",
       "      <td>0</td>\n",
       "      <td>1</td>\n",
       "      <td>0</td>\n",
       "      <td>0</td>\n",
       "      <td>0</td>\n",
       "      <td>-1</td>\n",
       "    </tr>\n",
       "    <tr>\n",
       "      <th>2022-08-01 01:00:00</th>\n",
       "      <td>NaN</td>\n",
       "      <td>1</td>\n",
       "      <td>0</td>\n",
       "      <td>3</td>\n",
       "      <td>8</td>\n",
       "      <td>2022</td>\n",
       "      <td>213</td>\n",
       "      <td>1</td>\n",
       "      <td>31</td>\n",
       "      <td>0</td>\n",
       "      <td>...</td>\n",
       "      <td>0.0</td>\n",
       "      <td>0.0</td>\n",
       "      <td>0.258819</td>\n",
       "      <td>0.965926</td>\n",
       "      <td>0</td>\n",
       "      <td>1</td>\n",
       "      <td>0</td>\n",
       "      <td>0</td>\n",
       "      <td>0</td>\n",
       "      <td>-1</td>\n",
       "    </tr>\n",
       "  </tbody>\n",
       "</table>\n",
       "<p>2 rows × 26 columns</p>\n",
       "</div>"
      ],
      "text/plain": [
       "                     Dağıtılan Enerji (MWh)  hour  dayofweek  quarter  month  \\\n",
       "Tarih                                                                          \n",
       "2022-08-01 00:00:00                     NaN     0          0        3      8   \n",
       "2022-08-01 01:00:00                     NaN     1          0        3      8   \n",
       "\n",
       "                     year  dayofyear  dayofmonth  weekofyear  holiday  ...  \\\n",
       "Tarih                                                                  ...   \n",
       "2022-08-01 00:00:00  2022        213           1          31        0  ...   \n",
       "2022-08-01 01:00:00  2022        213           1          31        0  ...   \n",
       "\n",
       "                     rolling_outages_24h  exp_avg_outages_24h  hour_sin  \\\n",
       "Tarih                                                                     \n",
       "2022-08-01 00:00:00                  0.0                  0.0  0.000000   \n",
       "2022-08-01 01:00:00                  0.0                  0.0  0.258819   \n",
       "\n",
       "                     hour_cos  is_spring  is_summer  is_autumn  is_winter  \\\n",
       "Tarih                                                                       \n",
       "2022-08-01 00:00:00  1.000000          0          1          0          0   \n",
       "2022-08-01 01:00:00  0.965926          0          1          0          0   \n",
       "\n",
       "                     is_weekend  is_weekday  \n",
       "Tarih                                        \n",
       "2022-08-01 00:00:00           0          -1  \n",
       "2022-08-01 01:00:00           0          -1  \n",
       "\n",
       "[2 rows x 26 columns]"
      ]
     },
     "execution_count": 18,
     "metadata": {},
     "output_type": "execute_result"
    }
   ],
   "source": [
    "print(future_df.shape)\n",
    "future_df.head(2)"
   ]
  },
  {
   "cell_type": "code",
   "execution_count": 19,
   "metadata": {},
   "outputs": [
    {
     "name": "stdout",
     "output_type": "stream",
     "text": [
      "(40152, 26)\n"
     ]
    },
    {
     "data": {
      "text/html": [
       "<div>\n",
       "<style scoped>\n",
       "    .dataframe tbody tr th:only-of-type {\n",
       "        vertical-align: middle;\n",
       "    }\n",
       "\n",
       "    .dataframe tbody tr th {\n",
       "        vertical-align: top;\n",
       "    }\n",
       "\n",
       "    .dataframe thead th {\n",
       "        text-align: right;\n",
       "    }\n",
       "</style>\n",
       "<table border=\"1\" class=\"dataframe\">\n",
       "  <thead>\n",
       "    <tr style=\"text-align: right;\">\n",
       "      <th></th>\n",
       "      <th>Dağıtılan Enerji (MWh)</th>\n",
       "      <th>hour</th>\n",
       "      <th>dayofweek</th>\n",
       "      <th>quarter</th>\n",
       "      <th>month</th>\n",
       "      <th>year</th>\n",
       "      <th>dayofyear</th>\n",
       "      <th>dayofmonth</th>\n",
       "      <th>weekofyear</th>\n",
       "      <th>holiday</th>\n",
       "      <th>...</th>\n",
       "      <th>rolling_outages_24h</th>\n",
       "      <th>exp_avg_outages_24h</th>\n",
       "      <th>hour_sin</th>\n",
       "      <th>hour_cos</th>\n",
       "      <th>is_spring</th>\n",
       "      <th>is_summer</th>\n",
       "      <th>is_autumn</th>\n",
       "      <th>is_winter</th>\n",
       "      <th>is_weekend</th>\n",
       "      <th>is_weekday</th>\n",
       "    </tr>\n",
       "    <tr>\n",
       "      <th>Tarih</th>\n",
       "      <th></th>\n",
       "      <th></th>\n",
       "      <th></th>\n",
       "      <th></th>\n",
       "      <th></th>\n",
       "      <th></th>\n",
       "      <th></th>\n",
       "      <th></th>\n",
       "      <th></th>\n",
       "      <th></th>\n",
       "      <th></th>\n",
       "      <th></th>\n",
       "      <th></th>\n",
       "      <th></th>\n",
       "      <th></th>\n",
       "      <th></th>\n",
       "      <th></th>\n",
       "      <th></th>\n",
       "      <th></th>\n",
       "      <th></th>\n",
       "      <th></th>\n",
       "    </tr>\n",
       "  </thead>\n",
       "  <tbody>\n",
       "    <tr>\n",
       "      <th>2018-01-01 00:00:00</th>\n",
       "      <td>1593.944216</td>\n",
       "      <td>0</td>\n",
       "      <td>0</td>\n",
       "      <td>1</td>\n",
       "      <td>1</td>\n",
       "      <td>2018</td>\n",
       "      <td>1</td>\n",
       "      <td>1</td>\n",
       "      <td>1</td>\n",
       "      <td>1</td>\n",
       "      <td>...</td>\n",
       "      <td>0.0</td>\n",
       "      <td>0.0</td>\n",
       "      <td>0.000000</td>\n",
       "      <td>1.000000</td>\n",
       "      <td>0</td>\n",
       "      <td>0</td>\n",
       "      <td>0</td>\n",
       "      <td>0</td>\n",
       "      <td>0</td>\n",
       "      <td>-1</td>\n",
       "    </tr>\n",
       "    <tr>\n",
       "      <th>2018-01-01 01:00:00</th>\n",
       "      <td>1513.933887</td>\n",
       "      <td>1</td>\n",
       "      <td>0</td>\n",
       "      <td>1</td>\n",
       "      <td>1</td>\n",
       "      <td>2018</td>\n",
       "      <td>1</td>\n",
       "      <td>1</td>\n",
       "      <td>1</td>\n",
       "      <td>1</td>\n",
       "      <td>...</td>\n",
       "      <td>0.0</td>\n",
       "      <td>0.0</td>\n",
       "      <td>0.258819</td>\n",
       "      <td>0.965926</td>\n",
       "      <td>0</td>\n",
       "      <td>0</td>\n",
       "      <td>0</td>\n",
       "      <td>0</td>\n",
       "      <td>0</td>\n",
       "      <td>-1</td>\n",
       "    </tr>\n",
       "  </tbody>\n",
       "</table>\n",
       "<p>2 rows × 26 columns</p>\n",
       "</div>"
      ],
      "text/plain": [
       "                     Dağıtılan Enerji (MWh)  hour  dayofweek  quarter  month  \\\n",
       "Tarih                                                                          \n",
       "2018-01-01 00:00:00             1593.944216     0          0        1      1   \n",
       "2018-01-01 01:00:00             1513.933887     1          0        1      1   \n",
       "\n",
       "                     year  dayofyear  dayofmonth  weekofyear  holiday  ...  \\\n",
       "Tarih                                                                  ...   \n",
       "2018-01-01 00:00:00  2018          1           1           1        1  ...   \n",
       "2018-01-01 01:00:00  2018          1           1           1        1  ...   \n",
       "\n",
       "                     rolling_outages_24h  exp_avg_outages_24h  hour_sin  \\\n",
       "Tarih                                                                     \n",
       "2018-01-01 00:00:00                  0.0                  0.0  0.000000   \n",
       "2018-01-01 01:00:00                  0.0                  0.0  0.258819   \n",
       "\n",
       "                     hour_cos  is_spring  is_summer  is_autumn  is_winter  \\\n",
       "Tarih                                                                       \n",
       "2018-01-01 00:00:00  1.000000          0          0          0          0   \n",
       "2018-01-01 01:00:00  0.965926          0          0          0          0   \n",
       "\n",
       "                     is_weekend  is_weekday  \n",
       "Tarih                                        \n",
       "2018-01-01 00:00:00           0          -1  \n",
       "2018-01-01 01:00:00           0          -1  \n",
       "\n",
       "[2 rows x 26 columns]"
      ]
     },
     "execution_count": 19,
     "metadata": {},
     "output_type": "execute_result"
    }
   ],
   "source": [
    "print(data.shape)\n",
    "data.head(2)"
   ]
  },
  {
   "cell_type": "code",
   "execution_count": 20,
   "metadata": {},
   "outputs": [
    {
     "data": {
      "text/plain": [
       "Dağıtılan Enerji (MWh)    744\n",
       "hour                        0\n",
       "dayofweek                   0\n",
       "quarter                     0\n",
       "month                       0\n",
       "year                        0\n",
       "dayofyear                   0\n",
       "dayofmonth                  0\n",
       "weekofyear                  0\n",
       "holiday                     0\n",
       "weekend                     0\n",
       "electrical_outage           0\n",
       "timeofday                   0\n",
       "business_day                0\n",
       "cumulative_holidays         0\n",
       "outage_percentage           0\n",
       "rolling_outages_24h         0\n",
       "exp_avg_outages_24h         0\n",
       "hour_sin                    0\n",
       "hour_cos                    0\n",
       "is_spring                   0\n",
       "is_summer                   0\n",
       "is_autumn                   0\n",
       "is_winter                   0\n",
       "is_weekend                  0\n",
       "is_weekday                  0\n",
       "dtype: int64"
      ]
     },
     "execution_count": 20,
     "metadata": {},
     "output_type": "execute_result"
    }
   ],
   "source": [
    "future_df.isna().sum()"
   ]
  },
  {
   "cell_type": "code",
   "execution_count": 21,
   "metadata": {},
   "outputs": [],
   "source": [
    "# cat_cols = ['hour', 'dayofweek', 'quarter', 'month', 'year', 'dayofyear', 'dayofmonth', 'weekofyear' , 'holiday' , 'weekend' , 'timeofday' , 'business_day' , 'is_spring' , 'is_summer' , 'is_autumn' , 'is_winter' , 'is_weekend' , 'is_weekday' ] \n",
    "# # rolling_outages_24h ? , is_spring , is_summer , is_autumn , is_winter , is_weekend , is_weekday\n",
    "# train_df = pd.get_dummies(train_df, columns=cat_cols, drop_first=True)\n",
    "# val_df = pd.get_dummies(val_df, columns=cat_cols, drop_first=True)\n",
    "# test_df = pd.get_dummies(test_df, columns=cat_cols, drop_first=True)\n",
    "# future_df = pd.get_dummies(future_df, columns=cat_cols, drop_first=True)"
   ]
  },
  {
   "attachments": {},
   "cell_type": "markdown",
   "metadata": {},
   "source": [
    "# Set X and Y"
   ]
  },
  {
   "cell_type": "code",
   "execution_count": 22,
   "metadata": {},
   "outputs": [],
   "source": [
    "# X_train = train_df.drop('Dağıtılan Enerji (MWh)' , axis=1)\n",
    "# y_train = train_df['Dağıtılan Enerji (MWh)']\n",
    "\n",
    "# X_val = val_df.drop('Dağıtılan Enerji (MWh)' , axis=1)\n",
    "# y_val = val_df['Dağıtılan Enerji (MWh)']\n",
    "\n",
    "# X_test = test_df.drop('Dağıtılan Enerji (MWh)' , axis=1)\n",
    "# y_test = test_df['Dağıtılan Enerji (MWh)']\n",
    "\n",
    "# X_future = future_df.drop('Dağıtılan Enerji (MWh)' , axis=1)"
   ]
  },
  {
   "cell_type": "code",
   "execution_count": 23,
   "metadata": {},
   "outputs": [],
   "source": [
    "# X_train.shape"
   ]
  },
  {
   "cell_type": "code",
   "execution_count": 24,
   "metadata": {},
   "outputs": [],
   "source": [
    "# 1. Veri setini train, validation ve test olarak üç parçaya ayırın.\n",
    "train_size = int(len(data) * 0.8)\n",
    "val_size = int(len(data) * 0.1)\n",
    "test_size = len(data) - train_size - val_size\n",
    "\n",
    "train_data = data[:train_size]\n",
    "val_data = data[train_size:train_size+val_size]\n",
    "test_data = data[-test_size:]"
   ]
  },
  {
   "cell_type": "code",
   "execution_count": 25,
   "metadata": {},
   "outputs": [],
   "source": [
    "data_arr = np.array(data)\n",
    "train_data_arr = np.array(train_data)\n",
    "val_data_arr = np.array(val_data)\n",
    "test_data_arr = np.array(test_data)"
   ]
  },
  {
   "cell_type": "code",
   "execution_count": 26,
   "metadata": {},
   "outputs": [],
   "source": [
    "# X_all = data.drop('Dağıtılan Enerji (MWh)' , axis = 1)\n",
    "# y_all = data['Dağıtılan Enerji (MWh)']\n",
    "\n",
    "# X_train = train_data.drop('Dağıtılan Enerji (MWh)' , axis = 1)\n",
    "# y_train = train_data['Dağıtılan Enerji (MWh)']\n",
    "\n",
    "# X_val = val_data.drop('Dağıtılan Enerji (MWh)' , axis = 1)\n",
    "# y_val = val_data['Dağıtılan Enerji (MWh)']\n",
    "\n",
    "# X_test = test_data.drop('Dağıtılan Enerji (MWh)' , axis = 1)\n",
    "# y_test = test_data['Dağıtılan Enerji (MWh)']"
   ]
  },
  {
   "cell_type": "code",
   "execution_count": 27,
   "metadata": {},
   "outputs": [],
   "source": [
    "# window_size = 24\n",
    "\n",
    "# # Veri setini yeniden şekillendirme\n",
    "# X_train = X_train.values.reshape((-1, window_size, X_train.shape[1]))\n",
    "# X_val = X_val.values.reshape((-1, window_size, X_val.shape[1]))\n",
    "# X_test = X_test.values.reshape((-1, window_size, X_test.shape[1]))"
   ]
  },
  {
   "cell_type": "code",
   "execution_count": 28,
   "metadata": {},
   "outputs": [],
   "source": [
    "# X_train = X_train.values.reshape(X_train.shape[0], X_train.shape[1], 1)\n",
    "# X_val = X_val.values.reshape(X_val.shape[0], X_val.shape[1], 1)\n",
    "# X_test = X_test.values.reshape(X_test.shape[0], X_test.shape[1], 1)\n",
    "# X_future = X_future.values.reshape(X_future.shape[0], X_future.shape[1], 1)"
   ]
  },
  {
   "cell_type": "code",
   "execution_count": 30,
   "metadata": {},
   "outputs": [
    {
     "data": {
      "text/plain": [
       "(40152, 26)"
      ]
     },
     "execution_count": 30,
     "metadata": {},
     "output_type": "execute_result"
    }
   ],
   "source": [
    "data_arr.shape"
   ]
  },
  {
   "attachments": {},
   "cell_type": "markdown",
   "metadata": {},
   "source": [
    "## Scaling"
   ]
  },
  {
   "cell_type": "code",
   "execution_count": 31,
   "metadata": {},
   "outputs": [],
   "source": [
    "from sklearn.preprocessing import MinMaxScaler\n",
    "\n",
    "scaler = MinMaxScaler()\n",
    "data_arr_scaled = scaler.fit_transform(data_arr.reshape(-1,1))\n",
    "train_data_arr_scaled = scaler.transform(train_data_arr.reshape(-1,1))\n",
    "val_data_arr_scaled = scaler.transform(val_data_arr.reshape((-1,1)))\n",
    "test_data_arr_scaled = scaler.transform(test_data_arr.reshape(-1,1))"
   ]
  },
  {
   "cell_type": "code",
   "execution_count": null,
   "metadata": {},
   "outputs": [],
   "source": [
    "data_arr_scaled = scaler.fit_transform(data_arr.reshape(-1,1)) # veriyi scale et\n",
    "data_arr = scaler.inverse_transform(data_arr_scaled).flatten() # orijinal veriye geri dönüştür"
   ]
  },
  {
   "cell_type": "code",
   "execution_count": 33,
   "metadata": {},
   "outputs": [
    {
     "data": {
      "text/plain": [
       "(1043952, 1)"
      ]
     },
     "execution_count": 33,
     "metadata": {},
     "output_type": "execute_result"
    }
   ],
   "source": [
    "data_arr_scaled.shape"
   ]
  },
  {
   "cell_type": "code",
   "execution_count": null,
   "metadata": {},
   "outputs": [],
   "source": [
    "# # 2. Veri setini ölçeklendirin.\n",
    "# from sklearn.preprocessing import MinMaxScaler\n",
    "\n",
    "# scaler_X = MinMaxScaler()\n",
    "# X_all = scaler_X.fit_transform(X_all.values)\n",
    "# X_train = scaler_X.transform(X_train.values)\n",
    "# X_val = scaler_X.transform(X_val.values)\n",
    "# X_test = scaler_X.transform(X_test.values)\n",
    "\n",
    "\n",
    "# scaler_y = MinMaxScaler()\n",
    "# y_all = scaler_y.fit_transform(y_all.values.reshape(-1,1))\n",
    "# y_train = scaler_y.transform(y_train.values.reshape(-1,1))\n",
    "# y_val = scaler_y.transform(y_val.values.reshape(-1,1))\n",
    "# y_test = scaler_y.transform(y_test.values.reshape(-1,1))"
   ]
  },
  {
   "cell_type": "code",
   "execution_count": null,
   "metadata": {},
   "outputs": [],
   "source": [
    "# data = np.array(np.concatenate([X_all , y_all] , axis = 1))\n",
    "# train_data = np.array(np.concatenate([X_train , y_train] , axis = 1))\n",
    "# val_data = np.array(np.concatenate([X_val , y_val] , axis = 1))\n",
    "# test_data = np.array(np.concatenate([X_test , y_test] , axis = 1))"
   ]
  },
  {
   "cell_type": "code",
   "execution_count": null,
   "metadata": {},
   "outputs": [],
   "source": [
    "data_arr.shape"
   ]
  },
  {
   "cell_type": "code",
   "execution_count": null,
   "metadata": {},
   "outputs": [],
   "source": [
    "data_arr_scaled.shape"
   ]
  },
  {
   "cell_type": "code",
   "execution_count": null,
   "metadata": {},
   "outputs": [],
   "source": []
  },
  {
   "cell_type": "code",
   "execution_count": null,
   "metadata": {},
   "outputs": [],
   "source": [
    "# from sklearn.preprocessing import MinMaxScaler\n",
    "\n",
    "# scaler = MinMaxScaler(feature_range=(0,1))\n",
    "# data_scaled = scaler.fit_transform(data)\n",
    "# train_scaled = scaler.transform(train_df)\n",
    "# test_scaled = scaler.transform(test_df)\n",
    "\n",
    "# val_scaled = scaler.transform(val_df)"
   ]
  },
  {
   "cell_type": "code",
   "execution_count": null,
   "metadata": {},
   "outputs": [],
   "source": [
    "# from sklearn.preprocessing import MinMaxScaler\n",
    "\n",
    "# scaler = MinMaxScaler(feature_range=(0,1))\n",
    "# X_train = scaler.fit_transform(X_train)\n",
    "# X_val = scaler.transform(X_val)\n",
    "# X_test = scaler.transform(X_test)\n",
    "\n",
    "# X_future = scaler.transform(X_future)"
   ]
  },
  {
   "attachments": {},
   "cell_type": "markdown",
   "metadata": {},
   "source": [
    "## Packager"
   ]
  },
  {
   "cell_type": "code",
   "execution_count": null,
   "metadata": {},
   "outputs": [],
   "source": [
    "def create_time_series(data, seq_length):\n",
    "    # Veri boyutunu al\n",
    "    data_len = len(data)\n",
    "    \n",
    "    # Pencereler için dizi oluştur\n",
    "    windows = []\n",
    "    \n",
    "    # Veriyi pencere boyutuna göre parçalayarak windows dizisine ekle\n",
    "    for i in range(seq_length, data_len+1):\n",
    "        windows.append(data[i-seq_length:i, :])\n",
    "    \n",
    "    # Diziyi numpy dizisine dönüştür\n",
    "    windows = np.array(windows)\n",
    "    \n",
    "    return windows"
   ]
  },
  {
   "cell_type": "code",
   "execution_count": null,
   "metadata": {},
   "outputs": [],
   "source": [
    "data_seq = create_time_series(data_arr_scaled, 24)\n",
    "train_seq = create_time_series(train_data_arr_scaled, 24)\n",
    "val_seq = create_time_series(val_data_arr_scaled, 24)\n",
    "test_seq = create_time_series(test_data_arr_scaled, 24)"
   ]
  },
  {
   "cell_type": "code",
   "execution_count": null,
   "metadata": {},
   "outputs": [],
   "source": [
    "data_seq.shape"
   ]
  },
  {
   "cell_type": "code",
   "execution_count": null,
   "metadata": {},
   "outputs": [],
   "source": [
    "val_seq.shape"
   ]
  },
  {
   "cell_type": "code",
   "execution_count": null,
   "metadata": {},
   "outputs": [],
   "source": [
    "data_seq"
   ]
  },
  {
   "cell_type": "code",
   "execution_count": null,
   "metadata": {},
   "outputs": [],
   "source": [
    "# scaler = StandardScaler()\n",
    "# data_seq_scaled = scaler.fit_transform(data_seq)"
   ]
  },
  {
   "cell_type": "code",
   "execution_count": null,
   "metadata": {},
   "outputs": [],
   "source": [
    "# X ve y değerlerini oluşturun\n",
    "# X_all = data_seq[:, : , 1:]\n",
    "y = data_seq[:, : , 0]\n",
    "\n",
    "# X_train = train_seq[:, :, 1:]\n",
    "y_train = train_seq[:, : , 0]\n",
    "\n",
    "# X_val = val_seq[:, :, 1:]\n",
    "y_val = val_seq[:, : , 0]\n",
    "\n",
    "# X_test = test_seq[:, :, 1:]\n",
    "y_test = test_seq[:, : , 0]"
   ]
  },
  {
   "cell_type": "code",
   "execution_count": null,
   "metadata": {},
   "outputs": [],
   "source": [
    "(data_arr_scaled).shape"
   ]
  },
  {
   "cell_type": "code",
   "execution_count": null,
   "metadata": {},
   "outputs": [],
   "source": [
    "y.shape"
   ]
  },
  {
   "cell_type": "code",
   "execution_count": null,
   "metadata": {},
   "outputs": [],
   "source": [
    "scaler.inverse_transform(data_arr_scaled)"
   ]
  },
  {
   "cell_type": "code",
   "execution_count": null,
   "metadata": {},
   "outputs": [],
   "source": [
    "scaler.inverse_transform(y)"
   ]
  },
  {
   "cell_type": "code",
   "execution_count": null,
   "metadata": {},
   "outputs": [],
   "source": [
    "# window_size = 24\n",
    "\n",
    "# def create_dataset(X, y, window_size):\n",
    "#     Xs, ys = [], []\n",
    "#     for i in range(len(X) - window_size):\n",
    "#         Xs.append(X[i:i+window_size])\n",
    "#         ys.append(y[i+window_size])\n",
    "#     return np.array(Xs), np.array(ys)\n",
    "\n",
    "# X_all, y_all = create_dataset(data[:, :-1], data[:, -1], window_size)\n",
    "# X_train, y_train = create_dataset(train_data[:, :-1], train_data[:, -1], window_size)\n",
    "# X_val, y_val = create_dataset(val_data[:, :-1], val_data[:, -1], window_size)\n",
    "# X_test, y_test = create_dataset(test_data[:, :-1], test_data[:, -1], window_size)"
   ]
  },
  {
   "cell_type": "code",
   "execution_count": null,
   "metadata": {},
   "outputs": [],
   "source": [
    "# X_all.shape"
   ]
  },
  {
   "cell_type": "code",
   "execution_count": null,
   "metadata": {},
   "outputs": [],
   "source": [
    "# def packager(data_scaled , train_scaled, val_scaled, test_scaled, window_size=24):\n",
    "#     X_data , y_data , X_train, y_train, X_val, y_val, X_test, y_test = [], [], [], [], [], [], [], []\n",
    "    \n",
    "    \n",
    "#     for i in range(window_size, len(data_scaled)):\n",
    "#         X_data.append(data_scaled[i-window_size:i, 0])\n",
    "#         y_data.append(data_scaled[i, 0])\n",
    "\n",
    "#     for i in range(window_size, len(train_scaled)):\n",
    "#         X_train.append(train_scaled[i-window_size:i, 0])\n",
    "#         y_train.append(train_scaled[i, 0])\n",
    "\n",
    "#     for i in range(window_size, len(val_scaled)):\n",
    "#         X_val.append(val_scaled[i-window_size:i, 0])\n",
    "#         y_val.append(val_scaled[i, 0])\n",
    "\n",
    "#     for i in range(window_size, len(test_scaled)):\n",
    "#         X_test.append(test_scaled[i-window_size:i, 0])\n",
    "#         y_test.append(test_scaled[i, 0])\n",
    "\n",
    "#     X_data, y_data = np.array(X_data), np.array(y_data)\n",
    "#     X_train, y_train = np.array(X_train), np.array(y_train)\n",
    "#     X_val, y_val = np.array(X_val), np.array(y_val)\n",
    "#     X_test, y_test = np.array(X_test), np.array(y_test)\n",
    "\n",
    "#     X_data = np.reshape(X_data, (X_data.shape[0], X_train.shape[1], 1))\n",
    "#     X_train = np.reshape(X_train, (X_train.shape[0], X_train.shape[1], 1))\n",
    "#     X_val = np.reshape(X_val, (X_val.shape[0], X_val.shape[1], 1))\n",
    "#     X_test = np.reshape(X_test, (X_test.shape[0], X_test.shape[1], 1))\n",
    "\n",
    "#     X = np.concatenate((X_train, X_val, X_test), axis=0)\n",
    "#     y = np.concatenate((y_train, y_val, y_test), axis=0)\n",
    "\n",
    "#     return X_data , y_data , X_train, y_train, X_val, y_val, X_test, y_test, X, y"
   ]
  },
  {
   "cell_type": "code",
   "execution_count": null,
   "metadata": {},
   "outputs": [],
   "source": [
    "# X_data , y_data , X_train, y_train, X_val, y_val, X_test, y_test, X, y = packager(data , train_df, val_df, test_df)"
   ]
  },
  {
   "cell_type": "code",
   "execution_count": null,
   "metadata": {},
   "outputs": [],
   "source": [
    "# print(f\"X_data Shape : {X_data.shape}\")\n",
    "# print(f\"X_train Shape : {X_train.shape}\")\n",
    "# print(f\"X_test Shape : {X_test.shape}\")\n",
    "# print(f\"X_val Shape : {X_val.shape}\")\n",
    "# print(f\"X Shape : {X.shape}\")"
   ]
  },
  {
   "attachments": {},
   "cell_type": "markdown",
   "metadata": {},
   "source": [
    "# Modelling Time"
   ]
  },
  {
   "attachments": {},
   "cell_type": "markdown",
   "metadata": {},
   "source": [
    "## Manual Create the Model"
   ]
  },
  {
   "cell_type": "code",
   "execution_count": null,
   "metadata": {},
   "outputs": [],
   "source": [
    "# X_train.shape"
   ]
  },
  {
   "cell_type": "code",
   "execution_count": null,
   "metadata": {},
   "outputs": [],
   "source": [
    "# from keras.models import Sequential\n",
    "# from keras.layers import LSTM, Dense, Dropout, BatchNormalization\n",
    "# from keras.callbacks import ModelCheckpoint, ReduceLROnPlateau , EarlyStopping\n",
    "\n",
    "# window_size = 24\n",
    "# batch_size = 16\n",
    "\n",
    "\n",
    "# # Model oluşturma\n",
    "# model = Sequential()\n",
    "# model.add(LSTM(256, input_shape=(window_size, data_seq.shape[2]-1), return_sequences=True))\n",
    "# model.add(BatchNormalization())\n",
    "# model.add(Dropout(0.2))\n",
    "# model.add(LSTM(128, return_sequences=True))\n",
    "# model.add(BatchNormalization())\n",
    "# model.add(Dropout(0.2))\n",
    "# model.add(LSTM(64, return_sequences=False))\n",
    "# model.add(BatchNormalization())\n",
    "# model.add(Dropout(0.2))\n",
    "# model.add(Dense(1))\n",
    "\n",
    "# model.compile(loss='mse', optimizer='adam')\n",
    "\n",
    "\n",
    "# reduce_lr = ReduceLROnPlateau(factor=0.1, patience=4)\n",
    "# early_stop = EarlyStopping(monitor='val_loss', patience=7)\n",
    "# model_check = ModelCheckpoint(filepath= r'C:\\Users\\Emincan\\Desktop\\Gdz\\gdz-competition\\Checkpoints\\Multi_Features\\256-128-64(Batch-Dropout0.2)\\model-{epoch:03d}-{val_loss:.5f}.h5', monitor=\"val_loss\", verbose=1)\n",
    "\n",
    "# # Modeli eğitme\n",
    "# model.fit(X , y , epochs=10, batch_size=batch_size, validation_data=(X_val, y_val), callbacks=[reduce_lr, early_stop, model_check])\n",
    "\n",
    "\n",
    "# # Modeli değerlendirme\n",
    "# mse = model.evaluate(X_test, y_test)\n",
    "# print('Test MSE: %.3f' % mse)\n"
   ]
  },
  {
   "attachments": {},
   "cell_type": "markdown",
   "metadata": {},
   "source": [
    "## Import the Model"
   ]
  },
  {
   "cell_type": "code",
   "execution_count": null,
   "metadata": {},
   "outputs": [],
   "source": [
    "from tensorflow.keras.models import load_model\n",
    "\n",
    "model = load_model(r\"C:\\Users\\Emincan\\Desktop\\Gdz\\gdz-competition\\Checkpoints\\Multi_Features\\256-128-64(Batch-Dropout0.2)\\\\model-001-0.09063.h5\")"
   ]
  },
  {
   "attachments": {},
   "cell_type": "markdown",
   "metadata": {},
   "source": [
    "# Predictions"
   ]
  },
  {
   "cell_type": "code",
   "execution_count": null,
   "metadata": {},
   "outputs": [],
   "source": [
    "data.shape"
   ]
  },
  {
   "cell_type": "code",
   "execution_count": null,
   "metadata": {},
   "outputs": [],
   "source": [
    "X_train.shape"
   ]
  },
  {
   "cell_type": "code",
   "execution_count": null,
   "metadata": {},
   "outputs": [],
   "source": [
    "X_val.shape"
   ]
  },
  {
   "cell_type": "code",
   "execution_count": null,
   "metadata": {},
   "outputs": [],
   "source": [
    "X_test.shape"
   ]
  },
  {
   "cell_type": "code",
   "execution_count": null,
   "metadata": {},
   "outputs": [],
   "source": [
    "X_all.shape"
   ]
  },
  {
   "cell_type": "code",
   "execution_count": null,
   "metadata": {},
   "outputs": [],
   "source": [
    "data_last_seq = X_all[-1:]\n",
    "data_last_seq.shape"
   ]
  },
  {
   "cell_type": "code",
   "execution_count": null,
   "metadata": {},
   "outputs": [],
   "source": [
    "data_last_seq.shape"
   ]
  },
  {
   "cell_type": "code",
   "execution_count": null,
   "metadata": {},
   "outputs": [],
   "source": [
    "# Son pencerenin son durumunu tutmak için bir değişken oluşturun\n",
    "last_window = data_last_seq.copy()\n",
    "\n",
    "# 31 gün boyunca tahminler yapmak için bir boş tahmin dizisi oluşturun\n",
    "predictions = []\n",
    "\n",
    "for i in range(31*24):\n",
    "    # Tahmin edilen değerleri ölçeklendirmek için son pencereyi yeniden şekillendirin\n",
    "    last_window_reshaped = last_window.reshape(1, 24, 25)\n",
    "\n",
    "    # Son pencereyi kullanarak bir tahmin yapın\n",
    "    prediction = model.predict(last_window_reshaped , verbose = 0)[0][0]\n",
    "\n",
    "    # Tahmini tahmin listesine ekleyin\n",
    "    predictions.append(prediction)\n",
    "\n",
    "    # Tahmin edilen değeri son pencerenin sonuna ekleyin\n",
    "    last_window = np.roll(last_window, -1, axis=1)\n",
    "    last_window[0][-1] = prediction\n",
    "\n",
    "predictions = np.array(predictions).reshape(-1, 1)\n",
    "predictions = scaler_y.inverse_transform(predictions)"
   ]
  },
  {
   "attachments": {},
   "cell_type": "markdown",
   "metadata": {},
   "source": [
    "## Visualize Predictions"
   ]
  },
  {
   "cell_type": "code",
   "execution_count": null,
   "metadata": {},
   "outputs": [],
   "source": [
    "future_df['Dağıtılan Enerji (MWh)'] = predictions\n",
    "future_df"
   ]
  },
  {
   "cell_type": "code",
   "execution_count": null,
   "metadata": {},
   "outputs": [],
   "source": [
    "target_data = data_copy[data_copy['Tarih'].dt.month == 8]"
   ]
  },
  {
   "cell_type": "code",
   "execution_count": null,
   "metadata": {},
   "outputs": [],
   "source": [
    "target_data_2018 = target_data[target_data.Tarih.dt.year == 2018]\n",
    "target_data_2019 = target_data[target_data.Tarih.dt.year == 2019]\n",
    "target_data_2020 = target_data[target_data.Tarih.dt.year == 2020]\n",
    "target_data_2021 = target_data[target_data.Tarih.dt.year == 2021]"
   ]
  },
  {
   "cell_type": "code",
   "execution_count": null,
   "metadata": {},
   "outputs": [],
   "source": [
    "target_data.mean()"
   ]
  },
  {
   "cell_type": "code",
   "execution_count": null,
   "metadata": {},
   "outputs": [],
   "source": [
    "future_df['Dağıtılan Enerji (MWh)'].mean()"
   ]
  },
  {
   "cell_type": "code",
   "execution_count": null,
   "metadata": {},
   "outputs": [],
   "source": [
    "data = data_copy.set_index('Tarih', drop=True)\n",
    "future_data = future_df[['Dağıtılan Enerji (MWh)']]\n",
    "target_data = target_data.set_index('Tarih' , drop=True)"
   ]
  },
  {
   "cell_type": "code",
   "execution_count": null,
   "metadata": {},
   "outputs": [],
   "source": [
    "from eval_metrics import preds_plot\n",
    "\n",
    "plt.figure(figsize=(16,12))\n",
    "preds_plot(data , future_df['Dağıtılan Enerji (MWh)'], target_data )"
   ]
  },
  {
   "cell_type": "code",
   "execution_count": null,
   "metadata": {},
   "outputs": [],
   "source": []
  },
  {
   "cell_type": "code",
   "execution_count": null,
   "metadata": {},
   "outputs": [],
   "source": []
  },
  {
   "cell_type": "code",
   "execution_count": null,
   "metadata": {},
   "outputs": [],
   "source": []
  },
  {
   "cell_type": "code",
   "execution_count": null,
   "metadata": {},
   "outputs": [],
   "source": []
  },
  {
   "cell_type": "code",
   "execution_count": null,
   "metadata": {},
   "outputs": [],
   "source": []
  }
 ],
 "metadata": {
  "kernelspec": {
   "display_name": "Python 3",
   "language": "python",
   "name": "python3"
  },
  "language_info": {
   "codemirror_mode": {
    "name": "ipython",
    "version": 3
   },
   "file_extension": ".py",
   "mimetype": "text/x-python",
   "name": "python",
   "nbconvert_exporter": "python",
   "pygments_lexer": "ipython3",
   "version": "3.10.10"
  },
  "orig_nbformat": 4
 },
 "nbformat": 4,
 "nbformat_minor": 2
}
