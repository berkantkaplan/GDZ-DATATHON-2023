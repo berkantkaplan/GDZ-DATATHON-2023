{
 "cells": [
  {
   "cell_type": "code",
   "execution_count": 1,
   "metadata": {},
   "outputs": [],
   "source": [
    "import numpy as np\n",
    "import pandas as pd\n",
    "\n",
    "import matplotlib.pyplot as plt\n",
    "import seaborn as sns\n",
    "\n",
    "import warnings\n",
    "warnings.filterwarnings('ignore')"
   ]
  },
  {
   "attachments": {},
   "cell_type": "markdown",
   "metadata": {},
   "source": [
    "# Read the Data"
   ]
  },
  {
   "cell_type": "code",
   "execution_count": 3,
   "metadata": {},
   "outputs": [
    {
     "data": {
      "text/html": [
       "<div>\n",
       "<style scoped>\n",
       "    .dataframe tbody tr th:only-of-type {\n",
       "        vertical-align: middle;\n",
       "    }\n",
       "\n",
       "    .dataframe tbody tr th {\n",
       "        vertical-align: top;\n",
       "    }\n",
       "\n",
       "    .dataframe thead th {\n",
       "        text-align: right;\n",
       "    }\n",
       "</style>\n",
       "<table border=\"1\" class=\"dataframe\">\n",
       "  <thead>\n",
       "    <tr style=\"text-align: right;\">\n",
       "      <th></th>\n",
       "      <th>Dağıtılan Enerji (MWh)</th>\n",
       "    </tr>\n",
       "    <tr>\n",
       "      <th>Tarih</th>\n",
       "      <th></th>\n",
       "    </tr>\n",
       "  </thead>\n",
       "  <tbody>\n",
       "    <tr>\n",
       "      <th>2018-01-01 00:00:00</th>\n",
       "      <td>1593.944216</td>\n",
       "    </tr>\n",
       "    <tr>\n",
       "      <th>2018-01-01 01:00:00</th>\n",
       "      <td>1513.933887</td>\n",
       "    </tr>\n",
       "    <tr>\n",
       "      <th>2018-01-01 02:00:00</th>\n",
       "      <td>1402.612637</td>\n",
       "    </tr>\n",
       "    <tr>\n",
       "      <th>2018-01-01 03:00:00</th>\n",
       "      <td>1278.527266</td>\n",
       "    </tr>\n",
       "    <tr>\n",
       "      <th>2018-01-01 04:00:00</th>\n",
       "      <td>1220.697701</td>\n",
       "    </tr>\n",
       "  </tbody>\n",
       "</table>\n",
       "</div>"
      ],
      "text/plain": [
       "                     Dağıtılan Enerji (MWh)\n",
       "Tarih                                      \n",
       "2018-01-01 00:00:00             1593.944216\n",
       "2018-01-01 01:00:00             1513.933887\n",
       "2018-01-01 02:00:00             1402.612637\n",
       "2018-01-01 03:00:00             1278.527266\n",
       "2018-01-01 04:00:00             1220.697701"
      ]
     },
     "execution_count": 3,
     "metadata": {},
     "output_type": "execute_result"
    }
   ],
   "source": [
    "data = pd.read_csv(\"train.csv\" , parse_dates=['Tarih'] , index_col='Tarih')\n",
    "# data.set_index('Tarih' , drop= True , inplace=True)\n",
    "data.head()"
   ]
  },
  {
   "cell_type": "code",
   "execution_count": 4,
   "metadata": {},
   "outputs": [
    {
     "data": {
      "text/html": [
       "<div>\n",
       "<style scoped>\n",
       "    .dataframe tbody tr th:only-of-type {\n",
       "        vertical-align: middle;\n",
       "    }\n",
       "\n",
       "    .dataframe tbody tr th {\n",
       "        vertical-align: top;\n",
       "    }\n",
       "\n",
       "    .dataframe thead th {\n",
       "        text-align: right;\n",
       "    }\n",
       "</style>\n",
       "<table border=\"1\" class=\"dataframe\">\n",
       "  <thead>\n",
       "    <tr style=\"text-align: right;\">\n",
       "      <th></th>\n",
       "      <th>Dağıtılan Enerji (MWh)</th>\n",
       "    </tr>\n",
       "    <tr>\n",
       "      <th>Tarih</th>\n",
       "      <th></th>\n",
       "    </tr>\n",
       "  </thead>\n",
       "  <tbody>\n",
       "    <tr>\n",
       "      <th>2022-08-01 00:00:00</th>\n",
       "      <td>NaN</td>\n",
       "    </tr>\n",
       "    <tr>\n",
       "      <th>2022-08-01 01:00:00</th>\n",
       "      <td>NaN</td>\n",
       "    </tr>\n",
       "    <tr>\n",
       "      <th>2022-08-01 02:00:00</th>\n",
       "      <td>NaN</td>\n",
       "    </tr>\n",
       "    <tr>\n",
       "      <th>2022-08-01 03:00:00</th>\n",
       "      <td>NaN</td>\n",
       "    </tr>\n",
       "    <tr>\n",
       "      <th>2022-08-01 04:00:00</th>\n",
       "      <td>NaN</td>\n",
       "    </tr>\n",
       "  </tbody>\n",
       "</table>\n",
       "</div>"
      ],
      "text/plain": [
       "                     Dağıtılan Enerji (MWh)\n",
       "Tarih                                      \n",
       "2022-08-01 00:00:00                     NaN\n",
       "2022-08-01 01:00:00                     NaN\n",
       "2022-08-01 02:00:00                     NaN\n",
       "2022-08-01 03:00:00                     NaN\n",
       "2022-08-01 04:00:00                     NaN"
      ]
     },
     "execution_count": 4,
     "metadata": {},
     "output_type": "execute_result"
    }
   ],
   "source": [
    "future_data = pd.read_csv(\"future.csv\", parse_dates=['Tarih'] , index_col= 'Tarih').drop('Unnamed: 0' , axis = 1)\n",
    "future_data.head()"
   ]
  },
  {
   "cell_type": "code",
   "execution_count": 5,
   "metadata": {},
   "outputs": [
    {
     "data": {
      "text/html": [
       "<div>\n",
       "<style scoped>\n",
       "    .dataframe tbody tr th:only-of-type {\n",
       "        vertical-align: middle;\n",
       "    }\n",
       "\n",
       "    .dataframe tbody tr th {\n",
       "        vertical-align: top;\n",
       "    }\n",
       "\n",
       "    .dataframe thead th {\n",
       "        text-align: right;\n",
       "    }\n",
       "</style>\n",
       "<table border=\"1\" class=\"dataframe\">\n",
       "  <thead>\n",
       "    <tr style=\"text-align: right;\">\n",
       "      <th></th>\n",
       "      <th>Tarih</th>\n",
       "    </tr>\n",
       "  </thead>\n",
       "  <tbody>\n",
       "    <tr>\n",
       "      <th>0</th>\n",
       "      <td>2019-12-23</td>\n",
       "    </tr>\n",
       "    <tr>\n",
       "      <th>1</th>\n",
       "      <td>2019-06-12</td>\n",
       "    </tr>\n",
       "    <tr>\n",
       "      <th>2</th>\n",
       "      <td>2019-01-25</td>\n",
       "    </tr>\n",
       "    <tr>\n",
       "      <th>3</th>\n",
       "      <td>2019-09-25</td>\n",
       "    </tr>\n",
       "    <tr>\n",
       "      <th>4</th>\n",
       "      <td>2019-03-29</td>\n",
       "    </tr>\n",
       "  </tbody>\n",
       "</table>\n",
       "</div>"
      ],
      "text/plain": [
       "       Tarih\n",
       "0 2019-12-23\n",
       "1 2019-06-12\n",
       "2 2019-01-25\n",
       "3 2019-09-25\n",
       "4 2019-03-29"
      ]
     },
     "execution_count": 5,
     "metadata": {},
     "output_type": "execute_result"
    }
   ],
   "source": [
    "med = pd.read_csv('med.csv')\n",
    "med['Tarih'] = pd.to_datetime(med['Tarih'])\n",
    "med.head()"
   ]
  },
  {
   "attachments": {},
   "cell_type": "markdown",
   "metadata": {},
   "source": [
    "# Describe the Data"
   ]
  },
  {
   "cell_type": "code",
   "execution_count": 6,
   "metadata": {},
   "outputs": [
    {
     "data": {
      "text/plain": [
       "(40152, 1)"
      ]
     },
     "execution_count": 6,
     "metadata": {},
     "output_type": "execute_result"
    }
   ],
   "source": [
    "data.shape"
   ]
  },
  {
   "cell_type": "code",
   "execution_count": 7,
   "metadata": {},
   "outputs": [
    {
     "name": "stdout",
     "output_type": "stream",
     "text": [
      "<class 'pandas.core.frame.DataFrame'>\n",
      "DatetimeIndex: 40152 entries, 2018-01-01 00:00:00 to 2022-07-31 23:00:00\n",
      "Data columns (total 1 columns):\n",
      " #   Column                  Non-Null Count  Dtype  \n",
      "---  ------                  --------------  -----  \n",
      " 0   Dağıtılan Enerji (MWh)  40152 non-null  float64\n",
      "dtypes: float64(1)\n",
      "memory usage: 627.4 KB\n"
     ]
    }
   ],
   "source": [
    "data.info()"
   ]
  },
  {
   "cell_type": "code",
   "execution_count": 8,
   "metadata": {},
   "outputs": [
    {
     "data": {
      "text/html": [
       "<div>\n",
       "<style scoped>\n",
       "    .dataframe tbody tr th:only-of-type {\n",
       "        vertical-align: middle;\n",
       "    }\n",
       "\n",
       "    .dataframe tbody tr th {\n",
       "        vertical-align: top;\n",
       "    }\n",
       "\n",
       "    .dataframe thead th {\n",
       "        text-align: right;\n",
       "    }\n",
       "</style>\n",
       "<table border=\"1\" class=\"dataframe\">\n",
       "  <thead>\n",
       "    <tr style=\"text-align: right;\">\n",
       "      <th></th>\n",
       "      <th>count</th>\n",
       "      <th>mean</th>\n",
       "      <th>std</th>\n",
       "      <th>min</th>\n",
       "      <th>25%</th>\n",
       "      <th>50%</th>\n",
       "      <th>75%</th>\n",
       "      <th>max</th>\n",
       "    </tr>\n",
       "  </thead>\n",
       "  <tbody>\n",
       "    <tr>\n",
       "      <th>Dağıtılan Enerji (MWh)</th>\n",
       "      <td>40152.0</td>\n",
       "      <td>1836.805287</td>\n",
       "      <td>426.066085</td>\n",
       "      <td>870.18328</td>\n",
       "      <td>1499.165048</td>\n",
       "      <td>1813.409221</td>\n",
       "      <td>2129.407998</td>\n",
       "      <td>3633.105297</td>\n",
       "    </tr>\n",
       "  </tbody>\n",
       "</table>\n",
       "</div>"
      ],
      "text/plain": [
       "                          count         mean         std        min  \\\n",
       "Dağıtılan Enerji (MWh)  40152.0  1836.805287  426.066085  870.18328   \n",
       "\n",
       "                                25%          50%          75%          max  \n",
       "Dağıtılan Enerji (MWh)  1499.165048  1813.409221  2129.407998  3633.105297  "
      ]
     },
     "execution_count": 8,
     "metadata": {},
     "output_type": "execute_result"
    }
   ],
   "source": [
    "data.describe().T"
   ]
  },
  {
   "attachments": {},
   "cell_type": "markdown",
   "metadata": {},
   "source": [
    "# Plot the Data"
   ]
  },
  {
   "cell_type": "code",
   "execution_count": null,
   "metadata": {},
   "outputs": [],
   "source": []
  },
  {
   "cell_type": "code",
   "execution_count": null,
   "metadata": {},
   "outputs": [],
   "source": []
  },
  {
   "attachments": {},
   "cell_type": "markdown",
   "metadata": {},
   "source": [
    "# Train | Test Split"
   ]
  },
  {
   "cell_type": "code",
   "execution_count": null,
   "metadata": {},
   "outputs": [],
   "source": [
    "# # split into train and test sets\n",
    "\n",
    "# n_train_time = 1460*24\n",
    "# train = values[:n_train_time, :]\n",
    "# test = values[n_train_time:, :]"
   ]
  },
  {
   "cell_type": "code",
   "execution_count": 9,
   "metadata": {},
   "outputs": [],
   "source": [
    "# X_data = data.copy()\n",
    "X_test_temp = data.loc[data.index > '2022-03-23 23:00:00'].copy()\n",
    "X_train_temp = data.loc[data.index <= '2022-03-23 23:00:00'].copy()\n",
    "\n",
    "# X_val_temp = X_train_temp[-144:]\n",
    "# X_train_temp = X_train_temp[:-144]"
   ]
  },
  {
   "cell_type": "code",
   "execution_count": 10,
   "metadata": {},
   "outputs": [],
   "source": [
    "# # split into input and outputs\n",
    "# X_train, y_train = train[:, :], train[:, 0]\n",
    "# X_test, y_test = test[:, :], test[:, 0]"
   ]
  },
  {
   "cell_type": "code",
   "execution_count": 11,
   "metadata": {},
   "outputs": [
    {
     "name": "stdout",
     "output_type": "stream",
     "text": [
      "Full data shape : (40152, 1)\n",
      "X_train Shape : (37032, 1)\n",
      "X_test Shape : (3120, 1)\n"
     ]
    }
   ],
   "source": [
    "# print(f\"X_data Shape : {X_data.shape}\")\n",
    "print(f\"Full data shape : {data.shape}\")\n",
    "print(f\"X_train Shape : {X_train_temp.shape}\")\n",
    "print(f\"X_test Shape : {X_test_temp.shape}\")\n",
    "# print(f\"X_val Shape : {X_val_temp.shape}\")\n",
    "# print(f\"X Shape : {X.shape}\")"
   ]
  },
  {
   "attachments": {},
   "cell_type": "markdown",
   "metadata": {},
   "source": [
    "# Scaling"
   ]
  },
  {
   "cell_type": "code",
   "execution_count": 12,
   "metadata": {},
   "outputs": [],
   "source": [
    "from sklearn.preprocessing import MinMaxScaler\n",
    "\n",
    "scaler = MinMaxScaler(feature_range=(0,1))\n",
    "data_scaled = scaler.fit_transform(data)\n",
    "X_train_scaled = scaler.transform(X_train_temp)\n",
    "X_test_scaled = scaler.transform(X_test_temp)"
   ]
  },
  {
   "attachments": {},
   "cell_type": "markdown",
   "metadata": {},
   "source": [
    "# Reshape and Sequence"
   ]
  },
  {
   "attachments": {},
   "cell_type": "markdown",
   "metadata": {},
   "source": [
    "Buraya dikkat"
   ]
  },
  {
   "cell_type": "code",
   "execution_count": null,
   "metadata": {},
   "outputs": [],
   "source": [
    "def packager(data_scaled , train_scaled, X_test_scaled, window_size=24):\n",
    "    X_data , y_data , X_train, y_train, X_test, y_test = [], [], [], [], [], []\n",
    "    \n",
    "    \n",
    "    for i in range(window_size, len(data_scaled)):\n",
    "        X_data.append(data_scaled[i-window_size:i, 0])\n",
    "        y_data.append(data_scaled[i, 0])\n",
    "\n",
    "    for i in range(window_size, len(train_scaled)):\n",
    "        X_train.append(train_scaled[i-window_size:i, 0])\n",
    "        y_train.append(train_scaled[i, 0])\n",
    "\n",
    "    # for i in range(window_size, len(val_scaled)):\n",
    "    #     X_val.append(val_scaled[i-window_size:i, 0])\n",
    "    #     y_val.append(val_scaled[i, 0])\n",
    "\n",
    "    for i in range(window_size, len(X_test_scaled)):\n",
    "        X_test.append(X_test_scaled[i-window_size:i, 0])\n",
    "        y_test.append(X_test_scaled[i, 0])\n",
    "\n",
    "    X_data, y_data = np.array(X_data), np.array(y_data)\n",
    "    X_train, y_train = np.array(X_train), np.array(y_train)\n",
    "    # X_val, y_val = np.array(X_val), np.array(y_val)\n",
    "    X_test, y_test = np.array(X_test), np.array(y_test)\n",
    "\n",
    "    X_data = np.reshape(X_data, (X_data.shape[0], X_train.shape[1], 1))\n",
    "    X_train = np.reshape(X_train, (X_train.shape[0], X_train.shape[1], 1))\n",
    "    # X_val = np.reshape(X_val, (X_val.shape[0], X_val.shape[1], 1))\n",
    "    X_test = np.reshape(X_test, (X_test.shape[0], X_test.shape[1], 1))\n",
    "\n",
    "    # X = np.concatenate((X_train, X_test), axis=0)\n",
    "    # y = np.concatenate((y_train, y_test), axis=0)\n",
    "\n",
    "    return X_data , y_data , X_train, y_train, X_test, y_test"
   ]
  },
  {
   "cell_type": "code",
   "execution_count": null,
   "metadata": {},
   "outputs": [],
   "source": [
    "X_data , y_data , X_train, y_train, X_test, y_test = packager(data_scaled , X_train_scaled, X_test_scaled, 24)"
   ]
  },
  {
   "cell_type": "code",
   "execution_count": null,
   "metadata": {},
   "outputs": [],
   "source": [
    "print(f\"X_data Shape : {X_data.shape}\")\n",
    "print(f\"y_data Shape : {y_data.shape}\\n\\n\")\n",
    "print(f\"X_train Shape : {X_train.shape}\")\n",
    "print(f\"y_train Shape : {y_train.shape}\\n\\n\")\n",
    "print(f\"X_test Shape : {X_test.shape}\")\n",
    "print(f\"y_test Shape : {y_test.shape}\")"
   ]
  },
  {
   "attachments": {},
   "cell_type": "markdown",
   "metadata": {},
   "source": [
    "# Final Model"
   ]
  },
  {
   "cell_type": "code",
   "execution_count": null,
   "metadata": {},
   "outputs": [],
   "source": [
    "import tensorflow as tf\n",
    "\n",
    "# Seed ayarlamak\n",
    "seed_value = 61\n",
    "tf.keras.utils.set_random_seed(seed_value)"
   ]
  },
  {
   "attachments": {},
   "cell_type": "markdown",
   "metadata": {},
   "source": [
    "# Manual Modelling"
   ]
  },
  {
   "cell_type": "code",
   "execution_count": null,
   "metadata": {},
   "outputs": [],
   "source": [
    "import tensorflow as tf"
   ]
  },
  {
   "cell_type": "code",
   "execution_count": null,
   "metadata": {},
   "outputs": [],
   "source": [
    "X_train.shape"
   ]
  },
  {
   "cell_type": "code",
   "execution_count": null,
   "metadata": {},
   "outputs": [],
   "source": [
    "# window_size = 24\n",
    "# batch_size = 8\n",
    "\n",
    "from keras.models import Sequential\n",
    "from keras.layers import LSTM, Dense , BatchNormalization , Dropout\n",
    "from keras.callbacks import ModelCheckpoint, ReduceLROnPlateau , EarlyStopping\n",
    "from keras.optimizers import Adam\n",
    "\n",
    "# Model oluşturma\n",
    "model = Sequential()\n",
    "# model.add(LSTM(50, input_shape=(window_size, data.shape[1]) ,return_sequences = False))\n",
    "model.add(LSTM(12, activation='tanh' , input_shape = (X_train.shape[1],X_train.shape[2]) ,return_sequences=True))\n",
    "model.add(LSTM(8, activation='tanh' ,return_sequences=True))\n",
    "# model.add(LSTM(30, return_sequences=False))\n",
    "model.add(LSTM(4 , activation = 'tanh' , return_sequences=True))\n",
    "model.add(LSTM(2 , activation = 'tanh' , return_sequences=False))\n",
    "model.add(Dense(1))\n",
    "\n",
    "opt = Adam(learning_rate = 0.0001)\n",
    "model.compile(loss='mse', optimizer=opt)\n",
    "\n",
    "\n",
    "\n",
    "reduce_lr = ReduceLROnPlateau(factor = 0.1 , patience=5)\n",
    "early_stop = EarlyStopping(monitor='val_loss' , patience=15)\n",
    "model_check = ModelCheckpoint(filepath=r'C:\\Users\\Emincan\\Desktop\\Gdz\\gdz-competition\\Checkpoints\\Single_Target\\\\60-30-15(batch1-relu)\\\\model-{epoch:03d}-{val_loss:.5f}.h5', monitor=\"val_loss\", verbose=1)\n",
    "\n",
    "# # Modeli eğitme\n",
    "# model.fit(X_train , y_train, epochs=30, batch_size = batch_size , validation_data=(X_test , y_test) , callbacks= [reduce_lr , early_stop , model_check] , shuffle=False )\n",
    "history = model.fit(X_data, y_data, epochs=150, batch_size= 1, validation_split=0.05, callbacks= [reduce_lr , early_stop, model_check] , shuffle=False)\n",
    "\n",
    "\n",
    "# Modeli değerlendirme\n",
    "mse = model.evaluate(X_test , y_test)\n",
    "print('Test MSE: %.3f' % mse)"
   ]
  },
  {
   "attachments": {},
   "cell_type": "markdown",
   "metadata": {},
   "source": [
    "# Import the Model"
   ]
  },
  {
   "cell_type": "code",
   "execution_count": null,
   "metadata": {},
   "outputs": [],
   "source": [
    "from tensorflow.keras.models import load_model\n",
    "\n",
    "model = load_model(r\"C:\\Users\\Emincan\\Desktop\\Gdz\\gdz-competition\\\\Checkpoints\\Single_Target\\\\60-30-15(batch1-relu)\\\\model-005-0.00557.h5\")"
   ]
  },
  {
   "cell_type": "code",
   "execution_count": null,
   "metadata": {},
   "outputs": [],
   "source": [
    "# # summarize history for loss\n",
    "# plt.plot(history.history['loss'])\n",
    "# plt.plot(history.history['val_loss'])\n",
    "# plt.title('model loss')\n",
    "# plt.ylabel('loss')\n",
    "# plt.xlabel('epoch')\n",
    "# plt.legend(['train', 'test'], loc='upper right')\n",
    "# plt.show()"
   ]
  },
  {
   "attachments": {},
   "cell_type": "markdown",
   "metadata": {},
   "source": [
    "# Eval Metric"
   ]
  },
  {
   "cell_type": "code",
   "execution_count": null,
   "metadata": {},
   "outputs": [],
   "source": [
    "from eval_metrics import eval_metrics"
   ]
  },
  {
   "attachments": {},
   "cell_type": "markdown",
   "metadata": {},
   "source": [
    "# Prediction"
   ]
  },
  {
   "cell_type": "code",
   "execution_count": null,
   "metadata": {},
   "outputs": [],
   "source": [
    "data_scaled.shape"
   ]
  },
  {
   "cell_type": "code",
   "execution_count": null,
   "metadata": {},
   "outputs": [],
   "source": [
    "data_scaled[-24:]"
   ]
  },
  {
   "cell_type": "code",
   "execution_count": null,
   "metadata": {},
   "outputs": [],
   "source": [
    "data_last_seq = data_scaled[-24:]"
   ]
  },
  {
   "cell_type": "code",
   "execution_count": null,
   "metadata": {},
   "outputs": [],
   "source": [
    "data_last_seq.shape"
   ]
  },
  {
   "cell_type": "code",
   "execution_count": null,
   "metadata": {},
   "outputs": [],
   "source": [
    "model.predict(data_last_seq.reshape(1,24,1))"
   ]
  },
  {
   "cell_type": "code",
   "execution_count": null,
   "metadata": {},
   "outputs": [],
   "source": [
    "# Elimizdeki verilerin son 24'ü bir sonraki tahmini yapmak için kullanılacak\n",
    "last_window = data_last_seq.copy()\n",
    "\n",
    "# 31 gün boyunca tahminler yapmak için bir boş tahmin dizisi oluşturun\n",
    "predictions = []\n",
    "\n",
    "for i in range(31*24):\n",
    "    # Tahmin edilen değerleri ölçeklendirmek için son pencereyi yeniden şekillendirin\n",
    "    last_window_reshaped = last_window.reshape(1, 24, 1)\n",
    "\n",
    "    # Son pencereyi kullanarak bir tahmin yapın\n",
    "    prediction = model.predict(last_window_reshaped , verbose = 0)[0][0]\n",
    "\n",
    "    # Tahmini tahmin listesine ekleyin\n",
    "    predictions.append(prediction)\n",
    "\n",
    "    # Tahmin edilen değeri son pencerenin sonuna ekleyin\n",
    "    last_window = np.append(last_window[1:], prediction)\n",
    "    \n",
    "# Tahminleri geri ölçeklendirin\n",
    "predictions = scaler.inverse_transform(np.array(predictions).reshape(-1, 1))\n",
    "\n",
    "# Tahminlerinizi burada kullanabilirsiniz"
   ]
  },
  {
   "cell_type": "code",
   "execution_count": null,
   "metadata": {},
   "outputs": [],
   "source": [
    "predictions"
   ]
  },
  {
   "attachments": {},
   "cell_type": "markdown",
   "metadata": {},
   "source": [
    "## Visualize Predictions"
   ]
  },
  {
   "cell_type": "code",
   "execution_count": null,
   "metadata": {},
   "outputs": [],
   "source": [
    "from eval_metrics import preds_plot"
   ]
  },
  {
   "cell_type": "code",
   "execution_count": null,
   "metadata": {},
   "outputs": [],
   "source": [
    "future_data['Dağıtılan Enerji (MWh)'] = predictions\n",
    "future_data"
   ]
  },
  {
   "cell_type": "code",
   "execution_count": null,
   "metadata": {},
   "outputs": [],
   "source": [
    "target_data = data[data.index.month == 8]"
   ]
  },
  {
   "cell_type": "code",
   "execution_count": null,
   "metadata": {},
   "outputs": [],
   "source": [
    "target_data_2018 = target_data[target_data.index.year == 2018]\n",
    "target_data_2019 = target_data[target_data.index.year == 2019]\n",
    "target_data_2020 = target_data[target_data.index.year == 2020]\n",
    "target_data_2021 = target_data[target_data.index.year == 2021]"
   ]
  },
  {
   "cell_type": "code",
   "execution_count": null,
   "metadata": {},
   "outputs": [],
   "source": [
    "data"
   ]
  },
  {
   "cell_type": "code",
   "execution_count": null,
   "metadata": {},
   "outputs": [],
   "source": [
    "preds_plot(data , future_data , target_data )"
   ]
  },
  {
   "cell_type": "code",
   "execution_count": null,
   "metadata": {},
   "outputs": [],
   "source": [
    "# Done"
   ]
  }
 ],
 "metadata": {
  "kernelspec": {
   "display_name": "Python 3",
   "language": "python",
   "name": "python3"
  },
  "language_info": {
   "codemirror_mode": {
    "name": "ipython",
    "version": 3
   },
   "file_extension": ".py",
   "mimetype": "text/x-python",
   "name": "python",
   "nbconvert_exporter": "python",
   "pygments_lexer": "ipython3",
   "version": "3.10.10"
  },
  "orig_nbformat": 4
 },
 "nbformat": 4,
 "nbformat_minor": 2
}
